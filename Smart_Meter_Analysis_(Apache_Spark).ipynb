{
  "metadata": {
    "kernelspec": {
      "language": "python",
      "display_name": "Python 3",
      "name": "python3"
    },
    "language_info": {
      "pygments_lexer": "ipython3",
      "nbconvert_exporter": "python",
      "version": "3.6.4",
      "file_extension": ".py",
      "codemirror_mode": {
        "name": "ipython",
        "version": 3
      },
      "name": "python",
      "mimetype": "text/x-python"
    },
    "kaggle": {
      "accelerator": "none",
      "dataSources": [
        {
          "sourceId": 3684057,
          "sourceType": "datasetVersion",
          "datasetId": 4021
        }
      ],
      "dockerImageVersionId": 30213,
      "isInternetEnabled": true,
      "language": "python",
      "sourceType": "notebook",
      "isGpuEnabled": false
    },
    "colab": {
      "name": "Smart Meter Analysis - (Apache Spark)",
      "provenance": []
    }
  },
  "nbformat_minor": 0,
  "nbformat": 4,
  "cells": [
    {
      "source": [
        "\n",
        "# IMPORTANT: RUN THIS CELL IN ORDER TO IMPORT YOUR KAGGLE DATA SOURCES\n",
        "# TO THE CORRECT LOCATION IN YOUR NOTEBOOK,\n",
        "# THEN FEEL FREE TO DELETE THIS CELL.\n",
        "\n",
        "import os\n",
        "import sys\n",
        "from tempfile import NamedTemporaryFile\n",
        "from urllib.request import urlopen\n",
        "from urllib.parse import unquote, urlparse\n",
        "from urllib.error import HTTPError\n",
        "from zipfile import ZipFile\n",
        "import tarfile\n",
        "import shutil\n",
        "\n",
        "CHUNK_SIZE = 40960\n",
        "DATA_SOURCE_MAPPING = 'smart-meters-in-london:https%3A%2F%2Fstorage.googleapis.com%2Fkaggle-data-sets%2F4021%2F3684057%2Fbundle%2Farchive.zip%3FX-Goog-Algorithm%3DGOOG4-RSA-SHA256%26X-Goog-Credential%3Dgcp-kaggle-com%2540kaggle-161607.iam.gserviceaccount.com%252F20240314%252Fauto%252Fstorage%252Fgoog4_request%26X-Goog-Date%3D20240314T161125Z%26X-Goog-Expires%3D259200%26X-Goog-SignedHeaders%3Dhost%26X-Goog-Signature%3D2b762e5d40b3eaa570877f5e351063c925a87574ac0401558d103ffb3ade39bcf29961253726e033414ed08dc8928163b4a66a441f2bb4ce913108bc9f705f8302a3b669f2b7a2e55a23580ef497c83988ca6c97e720076ca93ad755ca0017b2b09ee191536412429c9712bc81a135a327524367347ef80634f6fe1b04b7ee36a7d1aa319848612fe55d8181b8031279b72fa8b9aae4d55f7dc2bd32331fd9b42b06c2d982ccf644bc1b75aad5e50cecb11bc8ef6b3a40bc6a99d6a5c4cc672fafbd647eb38e6c5cf40b9dc8ecf9373e82ee9ab09569809e77f8bf04ad86538511d13fd89e2bff24e0ea31f07e3a4fc42211b8a4ed68227117c29f3732005ea4'\n",
        "\n",
        "KAGGLE_INPUT_PATH='/kaggle/input'\n",
        "KAGGLE_WORKING_PATH='/kaggle/working'\n",
        "KAGGLE_SYMLINK='kaggle'\n",
        "\n",
        "!umount /kaggle/input/ 2> /dev/null\n",
        "shutil.rmtree('/kaggle/input', ignore_errors=True)\n",
        "os.makedirs(KAGGLE_INPUT_PATH, 0o777, exist_ok=True)\n",
        "os.makedirs(KAGGLE_WORKING_PATH, 0o777, exist_ok=True)\n",
        "\n",
        "try:\n",
        "  os.symlink(KAGGLE_INPUT_PATH, os.path.join(\"..\", 'input'), target_is_directory=True)\n",
        "except FileExistsError:\n",
        "  pass\n",
        "try:\n",
        "  os.symlink(KAGGLE_WORKING_PATH, os.path.join(\"..\", 'working'), target_is_directory=True)\n",
        "except FileExistsError:\n",
        "  pass\n",
        "\n",
        "for data_source_mapping in DATA_SOURCE_MAPPING.split(','):\n",
        "    directory, download_url_encoded = data_source_mapping.split(':')\n",
        "    download_url = unquote(download_url_encoded)\n",
        "    filename = urlparse(download_url).path\n",
        "    destination_path = os.path.join(KAGGLE_INPUT_PATH, directory)\n",
        "    try:\n",
        "        with urlopen(download_url) as fileres, NamedTemporaryFile() as tfile:\n",
        "            total_length = fileres.headers['content-length']\n",
        "            print(f'Downloading {directory}, {total_length} bytes compressed')\n",
        "            dl = 0\n",
        "            data = fileres.read(CHUNK_SIZE)\n",
        "            while len(data) > 0:\n",
        "                dl += len(data)\n",
        "                tfile.write(data)\n",
        "                done = int(50 * dl / int(total_length))\n",
        "                sys.stdout.write(f\"\\r[{'=' * done}{' ' * (50-done)}] {dl} bytes downloaded\")\n",
        "                sys.stdout.flush()\n",
        "                data = fileres.read(CHUNK_SIZE)\n",
        "            if filename.endswith('.zip'):\n",
        "              with ZipFile(tfile) as zfile:\n",
        "                zfile.extractall(destination_path)\n",
        "            else:\n",
        "              with tarfile.open(tfile.name) as tarfile:\n",
        "                tarfile.extractall(destination_path)\n",
        "            print(f'\\nDownloaded and uncompressed: {directory}')\n",
        "    except HTTPError as e:\n",
        "        print(f'Failed to load (likely expired) {download_url} to path {destination_path}')\n",
        "        continue\n",
        "    except OSError as e:\n",
        "        print(f'Failed to load {download_url} to path {destination_path}')\n",
        "        continue\n",
        "\n",
        "print('Data source import complete.')\n"
      ],
      "metadata": {
        "id": "4AVnoXn4u5do"
      },
      "cell_type": "code",
      "outputs": [],
      "execution_count": null
    },
    {
      "cell_type": "markdown",
      "source": [
        "## Importing Libraries"
      ],
      "metadata": {
        "_cell_guid": "b1076dfc-b9ad-4769-8c92-a6c4dae69d19",
        "_uuid": "8f2839f25d086af736a60e9eeb907d3b93b6e0e5",
        "execution": {
          "iopub.execute_input": "2022-08-12T13:49:05.917293Z",
          "iopub.status.busy": "2022-08-12T13:49:05.916572Z",
          "iopub.status.idle": "2022-08-12T13:50:13.879477Z",
          "shell.execute_reply": "2022-08-12T13:50:13.877643Z",
          "shell.execute_reply.started": "2022-08-12T13:49:05.917205Z"
        },
        "papermill": {
          "duration": 0.020652,
          "end_time": "2022-08-14T12:48:03.4205",
          "exception": false,
          "start_time": "2022-08-14T12:48:03.399848",
          "status": "completed"
        },
        "tags": [],
        "id": "AYx2nv1bu5dr"
      }
    },
    {
      "cell_type": "code",
      "source": [
        "!pip install pyspark"
      ],
      "metadata": {
        "papermill": {
          "duration": 56.713074,
          "end_time": "2022-08-14T12:49:00.153643",
          "exception": false,
          "start_time": "2022-08-14T12:48:03.440569",
          "status": "completed"
        },
        "tags": [],
        "execution": {
          "iopub.status.busy": "2022-09-02T01:23:15.537626Z",
          "iopub.execute_input": "2022-09-02T01:23:15.538606Z",
          "iopub.status.idle": "2022-09-02T01:24:11.526569Z",
          "shell.execute_reply.started": "2022-09-02T01:23:15.538515Z",
          "shell.execute_reply": "2022-09-02T01:24:11.524487Z"
        },
        "trusted": true,
        "id": "dl9J2Vg8u5dt"
      },
      "execution_count": null,
      "outputs": []
    },
    {
      "cell_type": "code",
      "source": [
        "# Install Prophet\n",
        "!pip install Prophet"
      ],
      "metadata": {
        "papermill": {
          "duration": 11.619803,
          "end_time": "2022-08-14T12:49:11.812525",
          "exception": false,
          "start_time": "2022-08-14T12:49:00.192722",
          "status": "completed"
        },
        "tags": [],
        "execution": {
          "iopub.status.busy": "2022-09-02T01:24:11.534718Z",
          "iopub.execute_input": "2022-09-02T01:24:11.535046Z",
          "iopub.status.idle": "2022-09-02T01:24:23.363223Z",
          "shell.execute_reply.started": "2022-09-02T01:24:11.535013Z",
          "shell.execute_reply": "2022-09-02T01:24:23.361841Z"
        },
        "trusted": true,
        "id": "feYvE-t1u5du"
      },
      "execution_count": null,
      "outputs": []
    },
    {
      "cell_type": "code",
      "source": [
        "!java -version"
      ],
      "metadata": {
        "execution": {
          "iopub.status.busy": "2022-09-02T01:24:23.36498Z",
          "iopub.execute_input": "2022-09-02T01:24:23.365504Z",
          "iopub.status.idle": "2022-09-02T01:24:24.85435Z",
          "shell.execute_reply.started": "2022-09-02T01:24:23.36545Z",
          "shell.execute_reply": "2022-09-02T01:24:24.853047Z"
        },
        "trusted": true,
        "id": "4eMmvq9ru5dv"
      },
      "execution_count": null,
      "outputs": []
    },
    {
      "cell_type": "code",
      "source": [
        "import pandas as pd\n",
        "import numpy as np\n",
        "import seaborn as sns\n",
        "import os\n",
        "import sys\n",
        "import glob\n",
        "\n",
        "from matplotlib import pyplot as plt\n",
        "\n",
        "from prophet.plot import plot_plotly, plot_components_plotly\n",
        "\n",
        "from pyspark import SparkConf, SparkContext\n",
        "from pyspark.sql import SparkSession, SQLContext\n",
        "from pyspark.sql.functions import pandas_udf, PandasUDFType\n",
        "\n",
        "from pyspark.sql.types import *\n",
        "import pyspark.sql.functions as F\n",
        "from pyspark.sql.functions import udf, col\n",
        "\n",
        "from prophet import Prophet"
      ],
      "metadata": {
        "papermill": {
          "duration": 1.666193,
          "end_time": "2022-08-14T12:49:13.528647",
          "exception": false,
          "start_time": "2022-08-14T12:49:11.862454",
          "status": "completed"
        },
        "tags": [],
        "execution": {
          "iopub.status.busy": "2022-09-02T01:24:24.859169Z",
          "iopub.execute_input": "2022-09-02T01:24:24.859604Z",
          "iopub.status.idle": "2022-09-02T01:24:26.345573Z",
          "shell.execute_reply.started": "2022-09-02T01:24:24.859567Z",
          "shell.execute_reply": "2022-09-02T01:24:26.344064Z"
        },
        "trusted": true,
        "id": "bHBN4HE3u5dv"
      },
      "execution_count": null,
      "outputs": []
    },
    {
      "cell_type": "markdown",
      "source": [
        "## Creating Spark App"
      ],
      "metadata": {
        "papermill": {
          "duration": 0.036301,
          "end_time": "2022-08-14T12:49:13.601851",
          "exception": false,
          "start_time": "2022-08-14T12:49:13.56555",
          "status": "completed"
        },
        "tags": [],
        "id": "pJhBaqT4u5dv"
      }
    },
    {
      "cell_type": "code",
      "source": [
        "spark = SparkSession.builder.appName('Smart-Meter-Analysis').getOrCreate()\n",
        "spark"
      ],
      "metadata": {
        "papermill": {
          "duration": 7.091736,
          "end_time": "2022-08-14T12:49:20.730174",
          "exception": false,
          "start_time": "2022-08-14T12:49:13.638438",
          "status": "completed"
        },
        "tags": [],
        "execution": {
          "iopub.status.busy": "2022-09-02T01:24:26.347488Z",
          "iopub.execute_input": "2022-09-02T01:24:26.348053Z",
          "iopub.status.idle": "2022-09-02T01:24:33.400605Z",
          "shell.execute_reply.started": "2022-09-02T01:24:26.348009Z",
          "shell.execute_reply": "2022-09-02T01:24:33.399263Z"
        },
        "trusted": true,
        "id": "WpKgB183u5dw"
      },
      "execution_count": null,
      "outputs": []
    },
    {
      "cell_type": "code",
      "source": [
        "sc = spark.sparkContext\n",
        "sc"
      ],
      "metadata": {
        "papermill": {
          "duration": 0.049413,
          "end_time": "2022-08-14T12:49:20.81746",
          "exception": false,
          "start_time": "2022-08-14T12:49:20.768047",
          "status": "completed"
        },
        "tags": [],
        "execution": {
          "iopub.status.busy": "2022-09-02T01:24:33.405458Z",
          "iopub.execute_input": "2022-09-02T01:24:33.406922Z",
          "iopub.status.idle": "2022-09-02T01:24:33.416673Z",
          "shell.execute_reply.started": "2022-09-02T01:24:33.406852Z",
          "shell.execute_reply": "2022-09-02T01:24:33.415426Z"
        },
        "trusted": true,
        "id": "9XzMvGb5u5dw"
      },
      "execution_count": null,
      "outputs": []
    },
    {
      "cell_type": "code",
      "source": [
        "sqlContext = SQLContext(spark.sparkContext)\n",
        "sqlContext"
      ],
      "metadata": {
        "papermill": {
          "duration": 0.062245,
          "end_time": "2022-08-14T12:49:20.91688",
          "exception": false,
          "start_time": "2022-08-14T12:49:20.854635",
          "status": "completed"
        },
        "tags": [],
        "execution": {
          "iopub.status.busy": "2022-09-02T01:24:33.419032Z",
          "iopub.execute_input": "2022-09-02T01:24:33.420066Z",
          "iopub.status.idle": "2022-09-02T01:24:33.449141Z",
          "shell.execute_reply.started": "2022-09-02T01:24:33.42Z",
          "shell.execute_reply": "2022-09-02T01:24:33.44807Z"
        },
        "trusted": true,
        "id": "ttIpPDD1u5dx"
      },
      "execution_count": null,
      "outputs": []
    },
    {
      "cell_type": "markdown",
      "source": [
        "## Reading Daily Dataset and Information household dataset"
      ],
      "metadata": {
        "papermill": {
          "duration": 0.036752,
          "end_time": "2022-08-14T12:49:20.990939",
          "exception": false,
          "start_time": "2022-08-14T12:49:20.954187",
          "status": "completed"
        },
        "tags": [],
        "id": "n3W1UcR4u5dx"
      }
    },
    {
      "cell_type": "code",
      "source": [
        "block_1_df = pd.read_csv('../input/smart-meters-in-london/daily_dataset/daily_dataset/block_1.csv')\n",
        "block_1_df"
      ],
      "metadata": {
        "papermill": {
          "duration": 0.317109,
          "end_time": "2022-08-14T12:49:21.345713",
          "exception": false,
          "start_time": "2022-08-14T12:49:21.028604",
          "status": "completed"
        },
        "tags": [],
        "execution": {
          "iopub.status.busy": "2022-09-02T01:24:33.450651Z",
          "iopub.execute_input": "2022-09-02T01:24:33.451941Z",
          "iopub.status.idle": "2022-09-02T01:24:33.644764Z",
          "shell.execute_reply.started": "2022-09-02T01:24:33.451888Z",
          "shell.execute_reply": "2022-09-02T01:24:33.643421Z"
        },
        "trusted": true,
        "id": "rS_ilk04u5dx"
      },
      "execution_count": null,
      "outputs": []
    },
    {
      "cell_type": "code",
      "source": [],
      "metadata": {
        "id": "BPs__Ufsu5dy"
      },
      "execution_count": null,
      "outputs": []
    },
    {
      "cell_type": "code",
      "source": [
        "acorn_group_df = pd.read_csv('../input/smart-meters-in-london/informations_households.csv')\n",
        "acorn_group_df.head()"
      ],
      "metadata": {
        "papermill": {
          "duration": 0.083062,
          "end_time": "2022-08-14T12:49:21.466776",
          "exception": false,
          "start_time": "2022-08-14T12:49:21.383714",
          "status": "completed"
        },
        "tags": [],
        "execution": {
          "iopub.status.busy": "2022-09-02T01:24:33.646063Z",
          "iopub.execute_input": "2022-09-02T01:24:33.64663Z",
          "iopub.status.idle": "2022-09-02T01:24:33.681145Z",
          "shell.execute_reply.started": "2022-09-02T01:24:33.646591Z",
          "shell.execute_reply": "2022-09-02T01:24:33.679655Z"
        },
        "trusted": true,
        "id": "003R-N0lu5dy"
      },
      "execution_count": null,
      "outputs": []
    },
    {
      "cell_type": "code",
      "source": [
        "acorn_group_df[\"Acorn_grouped\"].unique()"
      ],
      "metadata": {
        "papermill": {
          "duration": 0.055117,
          "end_time": "2022-08-14T12:49:21.560721",
          "exception": false,
          "start_time": "2022-08-14T12:49:21.505604",
          "status": "completed"
        },
        "tags": [],
        "execution": {
          "iopub.status.busy": "2022-09-02T01:24:33.682842Z",
          "iopub.execute_input": "2022-09-02T01:24:33.683384Z",
          "iopub.status.idle": "2022-09-02T01:24:33.701355Z",
          "shell.execute_reply.started": "2022-09-02T01:24:33.683346Z",
          "shell.execute_reply": "2022-09-02T01:24:33.699959Z"
        },
        "trusted": true,
        "id": "Ris3LwPMu5dy"
      },
      "execution_count": null,
      "outputs": []
    },
    {
      "cell_type": "markdown",
      "source": [
        "### Using date to find the calender day, month, year"
      ],
      "metadata": {
        "papermill": {
          "duration": 0.03789,
          "end_time": "2022-08-14T12:49:21.636792",
          "exception": false,
          "start_time": "2022-08-14T12:49:21.598902",
          "status": "completed"
        },
        "tags": [],
        "id": "uOvmgUhKu5dy"
      }
    },
    {
      "cell_type": "code",
      "source": [
        "def daily_to_df(file_path : str) -> pd.DataFrame:\n",
        "    df = pd.read_csv(file_path)\n",
        "    df['day'] = pd.to_datetime(df['day'])\n",
        "    df[\"year\"] = df[\"day\"].apply(lambda x : x.year)\n",
        "    df[\"month\"] = df[\"day\"].apply(lambda x : x.month)\n",
        "    df[\"dayofweek\"] = df[\"day\"].apply(lambda x : x.dayofweek)\n",
        "    df[\"day_name\"] = df[\"day\"].apply(lambda x : x.day_name())\n",
        "    df = df.merge(acorn_group_df, on=\"LCLid\")\n",
        "    df = df[df[\"year\"].isin([2012, 2013])]\n",
        "    return df[[\"LCLid\", \"day\", \"year\", \"month\", \"day_name\", \"dayofweek\", \"Acorn_grouped\", \"energy_sum\"]]\n",
        "\n",
        "df = daily_to_df('../input/smart-meters-in-london/daily_dataset/daily_dataset/block_1.csv')\n",
        "df.head()"
      ],
      "metadata": {
        "papermill": {
          "duration": 0.959654,
          "end_time": "2022-08-14T12:49:22.635768",
          "exception": false,
          "start_time": "2022-08-14T12:49:21.676114",
          "status": "completed"
        },
        "tags": [],
        "execution": {
          "iopub.status.busy": "2022-09-02T01:24:33.703005Z",
          "iopub.execute_input": "2022-09-02T01:24:33.7053Z",
          "iopub.status.idle": "2022-09-02T01:24:34.650096Z",
          "shell.execute_reply.started": "2022-09-02T01:24:33.705251Z",
          "shell.execute_reply": "2022-09-02T01:24:34.648849Z"
        },
        "trusted": true,
        "id": "7PQad8FDu5dy"
      },
      "execution_count": null,
      "outputs": []
    },
    {
      "cell_type": "code",
      "source": [
        "df.tail()"
      ],
      "metadata": {
        "papermill": {
          "duration": 0.057169,
          "end_time": "2022-08-14T12:49:22.731626",
          "exception": false,
          "start_time": "2022-08-14T12:49:22.674457",
          "status": "completed"
        },
        "tags": [],
        "execution": {
          "iopub.status.busy": "2022-09-02T01:24:34.651678Z",
          "iopub.execute_input": "2022-09-02T01:24:34.652108Z",
          "iopub.status.idle": "2022-09-02T01:24:34.669527Z",
          "shell.execute_reply.started": "2022-09-02T01:24:34.652068Z",
          "shell.execute_reply": "2022-09-02T01:24:34.668117Z"
        },
        "trusted": true,
        "id": "wKiPphqVu5dy"
      },
      "execution_count": null,
      "outputs": []
    },
    {
      "cell_type": "markdown",
      "source": [
        "### Reading all the blocks in the daily dataset folder and storing them into one dataframe"
      ],
      "metadata": {
        "papermill": {
          "duration": 0.044196,
          "end_time": "2022-08-14T12:49:22.815113",
          "exception": false,
          "start_time": "2022-08-14T12:49:22.770917",
          "status": "completed"
        },
        "tags": [],
        "id": "CkmUigIlu5dz"
      }
    },
    {
      "cell_type": "code",
      "source": [
        "all_daily_df = pd.DataFrame()\n",
        "\n",
        "for i, file_path in enumerate(glob.glob('../input/smart-meters-in-london/daily_dataset/daily_dataset/*.csv')):\n",
        "    all_daily_df = all_daily_df.append(daily_to_df(file_path))\n",
        "    #print(all_daily_df.shape)"
      ],
      "metadata": {
        "papermill": {
          "duration": 113.701682,
          "end_time": "2022-08-14T12:51:16.561315",
          "exception": false,
          "start_time": "2022-08-14T12:49:22.859633",
          "status": "completed"
        },
        "tags": [],
        "execution": {
          "iopub.status.busy": "2022-09-02T01:24:34.671269Z",
          "iopub.execute_input": "2022-09-02T01:24:34.671706Z",
          "iopub.status.idle": "2022-09-02T01:26:26.355093Z",
          "shell.execute_reply.started": "2022-09-02T01:24:34.671664Z",
          "shell.execute_reply": "2022-09-02T01:26:26.353668Z"
        },
        "trusted": true,
        "id": "wCCMjQhBu5dz"
      },
      "execution_count": null,
      "outputs": []
    },
    {
      "cell_type": "code",
      "source": [
        "all_daily_df.head()"
      ],
      "metadata": {
        "papermill": {
          "duration": 0.065715,
          "end_time": "2022-08-14T12:51:16.674101",
          "exception": false,
          "start_time": "2022-08-14T12:51:16.608386",
          "status": "completed"
        },
        "tags": [],
        "execution": {
          "iopub.status.busy": "2022-09-02T01:26:26.362796Z",
          "iopub.execute_input": "2022-09-02T01:26:26.363293Z",
          "iopub.status.idle": "2022-09-02T01:26:26.38069Z",
          "shell.execute_reply.started": "2022-09-02T01:26:26.363244Z",
          "shell.execute_reply": "2022-09-02T01:26:26.379063Z"
        },
        "trusted": true,
        "id": "lScCnXETu5dz"
      },
      "execution_count": null,
      "outputs": []
    },
    {
      "cell_type": "markdown",
      "source": [
        "### Pre processing the dataset"
      ],
      "metadata": {
        "papermill": {
          "duration": 0.047594,
          "end_time": "2022-08-14T12:51:16.767704",
          "exception": false,
          "start_time": "2022-08-14T12:51:16.72011",
          "status": "completed"
        },
        "tags": [],
        "id": "CDIVSk8Du5dz"
      }
    },
    {
      "cell_type": "code",
      "source": [
        "spark_all_daily_df=spark.createDataFrame(all_daily_df)\n",
        "spark_all_daily_df.printSchema()\n",
        "spark_all_daily_df.show()"
      ],
      "metadata": {
        "papermill": {
          "duration": 312.390884,
          "end_time": "2022-08-14T12:56:29.205965",
          "exception": false,
          "start_time": "2022-08-14T12:51:16.815081",
          "status": "completed"
        },
        "tags": [],
        "execution": {
          "iopub.status.busy": "2022-09-02T01:26:26.382857Z",
          "iopub.execute_input": "2022-09-02T01:26:26.383255Z",
          "iopub.status.idle": "2022-09-02T01:31:37.646597Z",
          "shell.execute_reply.started": "2022-09-02T01:26:26.383221Z",
          "shell.execute_reply": "2022-09-02T01:31:37.645081Z"
        },
        "trusted": true,
        "id": "vvAyLNueu5dz"
      },
      "execution_count": null,
      "outputs": []
    },
    {
      "cell_type": "code",
      "source": [
        "spark_all_daily_df = spark_all_daily_df.drop_duplicates() # Drop any Duplicates values\n",
        "spark_all_daily_df = spark_all_daily_df.na.drop() # Drop any null values or NAN"
      ],
      "metadata": {
        "papermill": {
          "duration": 0.113863,
          "end_time": "2022-08-14T12:56:29.374435",
          "exception": false,
          "start_time": "2022-08-14T12:56:29.260572",
          "status": "completed"
        },
        "tags": [],
        "execution": {
          "iopub.status.busy": "2022-09-02T01:31:37.648805Z",
          "iopub.execute_input": "2022-09-02T01:31:37.650036Z",
          "iopub.status.idle": "2022-09-02T01:31:37.728595Z",
          "shell.execute_reply.started": "2022-09-02T01:31:37.649976Z",
          "shell.execute_reply": "2022-09-02T01:31:37.727578Z"
        },
        "trusted": true,
        "id": "Hn9_jB6Iu5dz"
      },
      "execution_count": null,
      "outputs": []
    },
    {
      "cell_type": "code",
      "source": [
        "spark_all_daily_df = spark_all_daily_df.withColumn('energy_sum', F.round(spark_all_daily_df['energy_sum'], 3))"
      ],
      "metadata": {
        "papermill": {
          "duration": 0.106551,
          "end_time": "2022-08-14T12:56:29.529353",
          "exception": false,
          "start_time": "2022-08-14T12:56:29.422802",
          "status": "completed"
        },
        "tags": [],
        "execution": {
          "iopub.status.busy": "2022-09-02T01:31:37.729699Z",
          "iopub.execute_input": "2022-09-02T01:31:37.730057Z",
          "iopub.status.idle": "2022-09-02T01:31:37.790191Z",
          "shell.execute_reply.started": "2022-09-02T01:31:37.730024Z",
          "shell.execute_reply": "2022-09-02T01:31:37.789137Z"
        },
        "trusted": true,
        "id": "xi5p_X_Zu5dz"
      },
      "execution_count": null,
      "outputs": []
    },
    {
      "cell_type": "code",
      "source": [
        "spark_all_daily_df.show()"
      ],
      "metadata": {
        "papermill": {
          "duration": 16.229835,
          "end_time": "2022-08-14T12:56:45.806326",
          "exception": false,
          "start_time": "2022-08-14T12:56:29.576491",
          "status": "completed"
        },
        "tags": [],
        "execution": {
          "iopub.status.busy": "2022-09-02T01:31:37.791244Z",
          "iopub.execute_input": "2022-09-02T01:31:37.791671Z",
          "iopub.status.idle": "2022-09-02T01:31:55.440171Z",
          "shell.execute_reply.started": "2022-09-02T01:31:37.791639Z",
          "shell.execute_reply": "2022-09-02T01:31:55.438755Z"
        },
        "trusted": true,
        "id": "ZNlQZFQpu5d0"
      },
      "execution_count": null,
      "outputs": []
    },
    {
      "cell_type": "markdown",
      "source": [
        "### Exploratory Data Analysis"
      ],
      "metadata": {
        "papermill": {
          "duration": 0.046105,
          "end_time": "2022-08-14T12:56:45.915288",
          "exception": false,
          "start_time": "2022-08-14T12:56:45.869183",
          "status": "completed"
        },
        "tags": [],
        "id": "5bj99MOfu5d0"
      }
    },
    {
      "cell_type": "code",
      "source": [
        "#Total Number of House Records\n",
        "spark_all_daily_df.select('LCLid').count()"
      ],
      "metadata": {
        "papermill": {
          "duration": 14.623588,
          "end_time": "2022-08-14T12:57:00.585559",
          "exception": false,
          "start_time": "2022-08-14T12:56:45.961971",
          "status": "completed"
        },
        "tags": [],
        "execution": {
          "iopub.status.busy": "2022-09-02T01:31:55.441647Z",
          "iopub.execute_input": "2022-09-02T01:31:55.443003Z",
          "iopub.status.idle": "2022-09-02T01:32:10.850868Z",
          "shell.execute_reply.started": "2022-09-02T01:31:55.442932Z",
          "shell.execute_reply": "2022-09-02T01:32:10.849685Z"
        },
        "trusted": true,
        "id": "WxXHmw05u5d0"
      },
      "execution_count": null,
      "outputs": []
    },
    {
      "cell_type": "code",
      "source": [
        "#Finding only the unique houses\n",
        "spark_all_daily_df.select('LCLid').distinct().count()"
      ],
      "metadata": {
        "papermill": {
          "duration": 4.941297,
          "end_time": "2022-08-14T12:57:05.611316",
          "exception": false,
          "start_time": "2022-08-14T12:57:00.670019",
          "status": "completed"
        },
        "tags": [],
        "execution": {
          "iopub.status.busy": "2022-09-02T01:32:10.852689Z",
          "iopub.execute_input": "2022-09-02T01:32:10.853628Z",
          "iopub.status.idle": "2022-09-02T01:32:15.807617Z",
          "shell.execute_reply.started": "2022-09-02T01:32:10.853581Z",
          "shell.execute_reply": "2022-09-02T01:32:15.806439Z"
        },
        "trusted": true,
        "id": "X212CrD7u5d0"
      },
      "execution_count": null,
      "outputs": []
    },
    {
      "cell_type": "code",
      "source": [
        "spark_all_daily_df.select('LCLid').distinct().show()"
      ],
      "metadata": {
        "papermill": {
          "duration": 4.708922,
          "end_time": "2022-08-14T12:57:10.37341",
          "exception": false,
          "start_time": "2022-08-14T12:57:05.664488",
          "status": "completed"
        },
        "tags": [],
        "execution": {
          "iopub.status.busy": "2022-09-02T01:32:15.809647Z",
          "iopub.execute_input": "2022-09-02T01:32:15.810102Z",
          "iopub.status.idle": "2022-09-02T01:32:20.561535Z",
          "shell.execute_reply.started": "2022-09-02T01:32:15.810058Z",
          "shell.execute_reply": "2022-09-02T01:32:20.560212Z"
        },
        "trusted": true,
        "id": "w01Vt5-hu5d0"
      },
      "execution_count": null,
      "outputs": []
    },
    {
      "cell_type": "markdown",
      "source": [
        "### Statistical analysis for all the columns"
      ],
      "metadata": {
        "papermill": {
          "duration": 0.059319,
          "end_time": "2022-08-14T12:57:10.5168",
          "exception": false,
          "start_time": "2022-08-14T12:57:10.457481",
          "status": "completed"
        },
        "tags": [],
        "id": "BpaO60kQu5d0"
      }
    },
    {
      "cell_type": "code",
      "source": [
        "spark_all_daily_df.describe(['energy_sum']).show()"
      ],
      "metadata": {
        "papermill": {
          "duration": 15.221334,
          "end_time": "2022-08-14T12:57:25.786677",
          "exception": false,
          "start_time": "2022-08-14T12:57:10.565343",
          "status": "completed"
        },
        "tags": [],
        "execution": {
          "iopub.status.busy": "2022-09-02T01:32:20.562893Z",
          "iopub.execute_input": "2022-09-02T01:32:20.563429Z",
          "iopub.status.idle": "2022-09-02T01:32:35.386627Z",
          "shell.execute_reply.started": "2022-09-02T01:32:20.563383Z",
          "shell.execute_reply": "2022-09-02T01:32:35.385295Z"
        },
        "trusted": true,
        "id": "2R89e39hu5d1"
      },
      "execution_count": null,
      "outputs": []
    },
    {
      "cell_type": "code",
      "source": [
        "spark_all_daily_df.select('year').distinct().show()"
      ],
      "metadata": {
        "papermill": {
          "duration": 4.913178,
          "end_time": "2022-08-14T12:57:30.759097",
          "exception": false,
          "start_time": "2022-08-14T12:57:25.845919",
          "status": "completed"
        },
        "tags": [],
        "execution": {
          "iopub.status.busy": "2022-09-02T01:32:35.387898Z",
          "iopub.execute_input": "2022-09-02T01:32:35.388286Z",
          "iopub.status.idle": "2022-09-02T01:32:40.459628Z",
          "shell.execute_reply.started": "2022-09-02T01:32:35.388251Z",
          "shell.execute_reply": "2022-09-02T01:32:40.45799Z"
        },
        "trusted": true,
        "id": "ZUYEF5wbu5d1"
      },
      "execution_count": null,
      "outputs": []
    },
    {
      "cell_type": "markdown",
      "source": [
        "### Finding patterns and trends for the year 2012 and 2013"
      ],
      "metadata": {
        "papermill": {
          "duration": 0.072804,
          "end_time": "2022-08-14T12:57:30.916418",
          "exception": false,
          "start_time": "2022-08-14T12:57:30.843614",
          "status": "completed"
        },
        "tags": [],
        "id": "y_SoQg95u5d1"
      }
    },
    {
      "cell_type": "code",
      "source": [
        "spark_y2012_df = spark_all_daily_df.filter(\"year == 2012\")\n",
        "spark_y2012_df.show()"
      ],
      "metadata": {
        "papermill": {
          "duration": 6.46033,
          "end_time": "2022-08-14T12:57:37.44812",
          "exception": false,
          "start_time": "2022-08-14T12:57:30.98779",
          "status": "completed"
        },
        "tags": [],
        "execution": {
          "iopub.status.busy": "2022-09-02T01:32:40.461328Z",
          "iopub.execute_input": "2022-09-02T01:32:40.461817Z",
          "iopub.status.idle": "2022-09-02T01:32:47.137216Z",
          "shell.execute_reply.started": "2022-09-02T01:32:40.461748Z",
          "shell.execute_reply": "2022-09-02T01:32:47.136015Z"
        },
        "trusted": true,
        "id": "v7ClWcEwu5d1"
      },
      "execution_count": null,
      "outputs": []
    },
    {
      "cell_type": "code",
      "source": [
        "spark_y2012_df.count()"
      ],
      "metadata": {
        "papermill": {
          "duration": 6.322069,
          "end_time": "2022-08-14T12:57:43.820329",
          "exception": false,
          "start_time": "2022-08-14T12:57:37.49826",
          "status": "completed"
        },
        "tags": [],
        "execution": {
          "iopub.status.busy": "2022-09-02T01:32:47.138528Z",
          "iopub.execute_input": "2022-09-02T01:32:47.138998Z",
          "iopub.status.idle": "2022-09-02T01:32:53.416248Z",
          "shell.execute_reply.started": "2022-09-02T01:32:47.138934Z",
          "shell.execute_reply": "2022-09-02T01:32:53.415026Z"
        },
        "trusted": true,
        "id": "_NdiW50Cu5d1"
      },
      "execution_count": null,
      "outputs": []
    },
    {
      "cell_type": "code",
      "source": [
        "spark_y2013_df = spark_all_daily_df.filter(\"year == 2013\")\n",
        "spark_y2013_df.show()"
      ],
      "metadata": {
        "papermill": {
          "duration": 6.82472,
          "end_time": "2022-08-14T12:57:50.710123",
          "exception": false,
          "start_time": "2022-08-14T12:57:43.885403",
          "status": "completed"
        },
        "tags": [],
        "execution": {
          "iopub.status.busy": "2022-09-02T01:32:53.418421Z",
          "iopub.execute_input": "2022-09-02T01:32:53.41891Z",
          "iopub.status.idle": "2022-09-02T01:33:00.116244Z",
          "shell.execute_reply.started": "2022-09-02T01:32:53.418865Z",
          "shell.execute_reply": "2022-09-02T01:33:00.115033Z"
        },
        "trusted": true,
        "id": "6L1oaxp1u5d1"
      },
      "execution_count": null,
      "outputs": []
    },
    {
      "cell_type": "code",
      "source": [
        "spark_y2013_df.count()"
      ],
      "metadata": {
        "papermill": {
          "duration": 6.964783,
          "end_time": "2022-08-14T12:57:57.724862",
          "exception": false,
          "start_time": "2022-08-14T12:57:50.760079",
          "status": "completed"
        },
        "tags": [],
        "execution": {
          "iopub.status.busy": "2022-09-02T01:33:00.117487Z",
          "iopub.execute_input": "2022-09-02T01:33:00.117911Z",
          "iopub.status.idle": "2022-09-02T01:33:07.344074Z",
          "shell.execute_reply.started": "2022-09-02T01:33:00.117856Z",
          "shell.execute_reply": "2022-09-02T01:33:07.343051Z"
        },
        "trusted": true,
        "id": "fP5yPS0zu5d1"
      },
      "execution_count": null,
      "outputs": []
    },
    {
      "cell_type": "code",
      "source": [
        "spark_y2013_df.groupBy('Acorn_grouped').count().show()"
      ],
      "metadata": {
        "papermill": {
          "duration": 7.371458,
          "end_time": "2022-08-14T12:58:05.151098",
          "exception": false,
          "start_time": "2022-08-14T12:57:57.77964",
          "status": "completed"
        },
        "tags": [],
        "execution": {
          "iopub.status.busy": "2022-09-02T01:33:07.345078Z",
          "iopub.execute_input": "2022-09-02T01:33:07.345413Z",
          "iopub.status.idle": "2022-09-02T01:33:15.363914Z",
          "shell.execute_reply.started": "2022-09-02T01:33:07.345382Z",
          "shell.execute_reply": "2022-09-02T01:33:15.362563Z"
        },
        "trusted": true,
        "id": "PMVS2Cvlu5d2"
      },
      "execution_count": null,
      "outputs": []
    },
    {
      "cell_type": "code",
      "source": [
        "spark_y2012_df.groupBy('Acorn_grouped').count().show()"
      ],
      "metadata": {
        "papermill": {
          "duration": 6.818134,
          "end_time": "2022-08-14T12:58:12.043946",
          "exception": false,
          "start_time": "2022-08-14T12:58:05.225812",
          "status": "completed"
        },
        "tags": [],
        "execution": {
          "iopub.status.busy": "2022-09-02T01:33:15.365611Z",
          "iopub.execute_input": "2022-09-02T01:33:15.366109Z",
          "iopub.status.idle": "2022-09-02T01:33:21.732189Z",
          "shell.execute_reply.started": "2022-09-02T01:33:15.36606Z",
          "shell.execute_reply": "2022-09-02T01:33:21.730832Z"
        },
        "trusted": true,
        "id": "TyaWu047u5d7"
      },
      "execution_count": null,
      "outputs": []
    },
    {
      "cell_type": "code",
      "source": [
        "y2012_df = spark_y2012_df.toPandas()\n",
        "y2013_df = spark_y2013_df.toPandas()"
      ],
      "metadata": {
        "papermill": {
          "duration": 139.976654,
          "end_time": "2022-08-14T13:00:32.096551",
          "exception": false,
          "start_time": "2022-08-14T12:58:12.119897",
          "status": "completed"
        },
        "tags": [],
        "execution": {
          "iopub.status.busy": "2022-09-02T01:33:21.733645Z",
          "iopub.execute_input": "2022-09-02T01:33:21.734136Z",
          "iopub.status.idle": "2022-09-02T01:35:41.05363Z",
          "shell.execute_reply.started": "2022-09-02T01:33:21.734089Z",
          "shell.execute_reply": "2022-09-02T01:35:41.052081Z"
        },
        "trusted": true,
        "id": "J2oQ8H1cu5d7"
      },
      "execution_count": null,
      "outputs": []
    },
    {
      "cell_type": "code",
      "source": [
        "y2012_df = y2012_df[y2012_df[\"Acorn_grouped\"].isin([\"Adversity\", \"Affluent\", \"Comfortable\"])]\n",
        "y2013_df = y2013_df[y2013_df[\"Acorn_grouped\"].isin([\"Adversity\", \"Affluent\", \"Comfortable\"])]"
      ],
      "metadata": {
        "papermill": {
          "duration": 1.588987,
          "end_time": "2022-08-14T13:00:33.739338",
          "exception": false,
          "start_time": "2022-08-14T13:00:32.150351",
          "status": "completed"
        },
        "tags": [],
        "execution": {
          "iopub.status.busy": "2022-09-02T01:35:41.055398Z",
          "iopub.execute_input": "2022-09-02T01:35:41.055812Z",
          "iopub.status.idle": "2022-09-02T01:35:42.559892Z",
          "shell.execute_reply.started": "2022-09-02T01:35:41.055776Z",
          "shell.execute_reply": "2022-09-02T01:35:42.558555Z"
        },
        "trusted": true,
        "id": "uSszm7yCu5d7"
      },
      "execution_count": null,
      "outputs": []
    },
    {
      "cell_type": "code",
      "source": [
        "y2012_df.groupby(\"Acorn_grouped\").count()[\"LCLid\"]"
      ],
      "metadata": {
        "papermill": {
          "duration": 0.5701,
          "end_time": "2022-08-14T13:00:34.368256",
          "exception": false,
          "start_time": "2022-08-14T13:00:33.798156",
          "status": "completed"
        },
        "tags": [],
        "execution": {
          "iopub.status.busy": "2022-09-02T01:35:42.561612Z",
          "iopub.execute_input": "2022-09-02T01:35:42.56218Z",
          "iopub.status.idle": "2022-09-02T01:35:43.088096Z",
          "shell.execute_reply.started": "2022-09-02T01:35:42.562096Z",
          "shell.execute_reply": "2022-09-02T01:35:43.087056Z"
        },
        "trusted": true,
        "id": "BVxEIZ8Bu5d7"
      },
      "execution_count": null,
      "outputs": []
    },
    {
      "cell_type": "code",
      "source": [
        "\n",
        "y2013_df.groupby(\"Acorn_grouped\").count()[\"LCLid\"]"
      ],
      "metadata": {
        "papermill": {
          "duration": 0.843785,
          "end_time": "2022-08-14T13:00:35.262852",
          "exception": false,
          "start_time": "2022-08-14T13:00:34.419067",
          "status": "completed"
        },
        "tags": [],
        "execution": {
          "iopub.status.busy": "2022-09-02T01:35:43.089548Z",
          "iopub.execute_input": "2022-09-02T01:35:43.090577Z",
          "iopub.status.idle": "2022-09-02T01:35:43.957598Z",
          "shell.execute_reply.started": "2022-09-02T01:35:43.090531Z",
          "shell.execute_reply": "2022-09-02T01:35:43.956597Z"
        },
        "trusted": true,
        "id": "riV3XJtJu5d7"
      },
      "execution_count": null,
      "outputs": []
    },
    {
      "cell_type": "code",
      "source": [
        "#Converting months int to month names\n",
        "import calendar\n",
        "y2012_df[\"month\"] = y2012_df[\"month\"].apply(lambda x: calendar.month_abbr[x])\n",
        "y2013_df[\"month\"] = y2013_df[\"month\"].apply(lambda x: calendar.month_abbr[x])"
      ],
      "metadata": {
        "papermill": {
          "duration": 10.525686,
          "end_time": "2022-08-14T13:00:45.840407",
          "exception": false,
          "start_time": "2022-08-14T13:00:35.314721",
          "status": "completed"
        },
        "tags": [],
        "execution": {
          "iopub.status.busy": "2022-09-02T01:35:43.959227Z",
          "iopub.execute_input": "2022-09-02T01:35:43.959885Z",
          "iopub.status.idle": "2022-09-02T01:35:53.650447Z",
          "shell.execute_reply.started": "2022-09-02T01:35:43.959843Z",
          "shell.execute_reply": "2022-09-02T01:35:53.648973Z"
        },
        "trusted": true,
        "id": "Sd3qLkRcu5d8"
      },
      "execution_count": null,
      "outputs": []
    },
    {
      "cell_type": "markdown",
      "source": [
        "## Exploring Energy consumption for different acorn groups"
      ],
      "metadata": {
        "papermill": {
          "duration": 0.050109,
          "end_time": "2022-08-14T13:00:45.941766",
          "exception": false,
          "start_time": "2022-08-14T13:00:45.891657",
          "status": "completed"
        },
        "tags": [],
        "id": "KtuGVzo7u5d8"
      }
    },
    {
      "cell_type": "markdown",
      "source": [
        "#### Finding Average Energy consumption during 2012"
      ],
      "metadata": {
        "id": "LZOwRLI5u5d8"
      }
    },
    {
      "cell_type": "code",
      "source": [
        "sum_y2012_df = pd.concat([y2012_df.groupby(\"Acorn_grouped\").sum()[\"energy_sum\"],\n",
        "                         y2012_df.groupby(\"Acorn_grouped\").count()[\"LCLid\"]], axis = 1)\n",
        "\n",
        "sum_y2012_df[\"average_eng\"] = sum_y2012_df[\"energy_sum\"]/sum_y2012_df[\"LCLid\"]\n",
        "\n",
        "sum_y2012_df"
      ],
      "metadata": {
        "papermill": {
          "duration": 1.254502,
          "end_time": "2022-08-14T13:00:47.247769",
          "exception": false,
          "start_time": "2022-08-14T13:00:45.993267",
          "status": "completed"
        },
        "tags": [],
        "execution": {
          "iopub.status.busy": "2022-09-02T01:35:53.65218Z",
          "iopub.execute_input": "2022-09-02T01:35:53.652718Z",
          "iopub.status.idle": "2022-09-02T01:35:54.869993Z",
          "shell.execute_reply.started": "2022-09-02T01:35:53.652661Z",
          "shell.execute_reply": "2022-09-02T01:35:54.8685Z"
        },
        "trusted": true,
        "id": "T02s7C78u5d8"
      },
      "execution_count": null,
      "outputs": []
    },
    {
      "cell_type": "markdown",
      "source": [
        "#### Finding Average Energy consumption during 2013"
      ],
      "metadata": {
        "id": "y_BoClbYu5d9"
      }
    },
    {
      "cell_type": "code",
      "source": [
        "sum_y2013_df = pd.concat([y2013_df.groupby(\"Acorn_grouped\").sum()[\"energy_sum\"],\n",
        "                         y2013_df.groupby(\"Acorn_grouped\").count()[\"LCLid\"]], axis = 1)\n",
        "\n",
        "sum_y2013_df[\"average_eng\"] = sum_y2013_df[\"energy_sum\"]/sum_y2013_df[\"LCLid\"]\n",
        "\n",
        "sum_y2013_df"
      ],
      "metadata": {
        "papermill": {
          "duration": 2.080353,
          "end_time": "2022-08-14T13:00:49.38296",
          "exception": false,
          "start_time": "2022-08-14T13:00:47.302607",
          "status": "completed"
        },
        "tags": [],
        "execution": {
          "iopub.status.busy": "2022-09-02T01:35:54.871868Z",
          "iopub.execute_input": "2022-09-02T01:35:54.872312Z",
          "iopub.status.idle": "2022-09-02T01:35:57.024589Z",
          "shell.execute_reply.started": "2022-09-02T01:35:54.87227Z",
          "shell.execute_reply": "2022-09-02T01:35:57.023158Z"
        },
        "trusted": true,
        "id": "RoPBQ-sYu5d9"
      },
      "execution_count": null,
      "outputs": []
    },
    {
      "cell_type": "markdown",
      "source": [
        "### Energy consumption between different acorn groups"
      ],
      "metadata": {
        "id": "QF9GB4_Su5d9"
      }
    },
    {
      "cell_type": "code",
      "source": [
        "bar_df = pd.DataFrame({'2012': sum_y2012_df[\"average_eng\"],\n",
        "                   '2013': sum_y2013_df[\"average_eng\"]}).plot.bar(rot=0, title='Energy Consumption between Acorn groups')\n",
        "bar_df.set_xlabel(\"Acorn Groups\")\n",
        "bar_df.set_ylabel(\"Energy Sum\")"
      ],
      "metadata": {
        "papermill": {
          "duration": 0.314349,
          "end_time": "2022-08-14T13:00:49.748121",
          "exception": false,
          "start_time": "2022-08-14T13:00:49.433772",
          "status": "completed"
        },
        "tags": [],
        "execution": {
          "iopub.status.busy": "2022-09-02T01:35:57.026692Z",
          "iopub.execute_input": "2022-09-02T01:35:57.027269Z",
          "iopub.status.idle": "2022-09-02T01:35:57.311913Z",
          "shell.execute_reply.started": "2022-09-02T01:35:57.027217Z",
          "shell.execute_reply": "2022-09-02T01:35:57.30921Z"
        },
        "trusted": true,
        "id": "Ovi6Dyuou5d9"
      },
      "execution_count": null,
      "outputs": []
    },
    {
      "cell_type": "markdown",
      "source": [
        "### Energy Consumption during the week"
      ],
      "metadata": {
        "id": "aZGy8KqFu5d-"
      }
    },
    {
      "cell_type": "code",
      "source": [
        "day_name_bar_df = pd.DataFrame({'2012': y2012_df.groupby(\"day_name\").sum()[\"energy_sum\"].sort_values(),\n",
        "                   '2013': y2013_df.groupby(\"day_name\").sum()[\"energy_sum\"].sort_values()}).plot.bar(rot=0, title='Energy Consumption during the week', figsize=(12,8))\n",
        "day_name_bar_df.set_xlabel(\"Day Name\")\n",
        "day_name_bar_df.set_ylabel(\"Energy Sum\")"
      ],
      "metadata": {
        "papermill": {
          "duration": 1.110454,
          "end_time": "2022-08-14T13:00:51.023",
          "exception": false,
          "start_time": "2022-08-14T13:00:49.912546",
          "status": "completed"
        },
        "tags": [],
        "execution": {
          "iopub.status.busy": "2022-09-02T01:35:57.313657Z",
          "iopub.execute_input": "2022-09-02T01:35:57.314798Z",
          "iopub.status.idle": "2022-09-02T01:35:58.486889Z",
          "shell.execute_reply.started": "2022-09-02T01:35:57.31475Z",
          "shell.execute_reply": "2022-09-02T01:35:58.485984Z"
        },
        "trusted": true,
        "id": "vFNdj2YFu5d-"
      },
      "execution_count": null,
      "outputs": []
    },
    {
      "cell_type": "markdown",
      "source": [
        "### Energy consumption during the year"
      ],
      "metadata": {
        "id": "HCGgpa3cu5d-"
      }
    },
    {
      "cell_type": "code",
      "source": [
        "day_name_bar_df = pd.DataFrame({'2012': y2012_df.groupby(\"month\").sum()[\"energy_sum\"].sort_values(),\n",
        "                   '2013': y2013_df.groupby(\"month\").sum()[\"energy_sum\"].sort_values()}).plot.bar(rot=0, title='Energy Consumption usages during the year', figsize=(15,7))\n",
        "day_name_bar_df.set_xlabel(\"Month\")\n",
        "day_name_bar_df.set_ylabel(\"Energy Sum\")"
      ],
      "metadata": {
        "papermill": {
          "duration": 1.011081,
          "end_time": "2022-08-14T13:00:52.085843",
          "exception": false,
          "start_time": "2022-08-14T13:00:51.074762",
          "status": "completed"
        },
        "tags": [],
        "execution": {
          "iopub.status.busy": "2022-09-02T01:35:58.488389Z",
          "iopub.execute_input": "2022-09-02T01:35:58.489773Z",
          "iopub.status.idle": "2022-09-02T01:35:59.600729Z",
          "shell.execute_reply.started": "2022-09-02T01:35:58.48972Z",
          "shell.execute_reply": "2022-09-02T01:35:59.599058Z"
        },
        "trusted": true,
        "id": "5RjM0CCKu5d-"
      },
      "execution_count": null,
      "outputs": []
    },
    {
      "cell_type": "markdown",
      "source": [
        "### Energy consumption during 2012"
      ],
      "metadata": {
        "id": "UJgDO4iyu5d-"
      }
    },
    {
      "cell_type": "code",
      "source": [
        "y2012_df.groupby(\"month\").sum()[\"energy_sum\"].sort_values().plot.bar()"
      ],
      "metadata": {
        "execution": {
          "iopub.status.busy": "2022-09-02T01:35:59.602614Z",
          "iopub.execute_input": "2022-09-02T01:35:59.603076Z",
          "iopub.status.idle": "2022-09-02T01:36:00.139003Z",
          "shell.execute_reply.started": "2022-09-02T01:35:59.603036Z",
          "shell.execute_reply": "2022-09-02T01:36:00.137525Z"
        },
        "trusted": true,
        "id": "CbN7fRy0u5d_"
      },
      "execution_count": null,
      "outputs": []
    },
    {
      "cell_type": "markdown",
      "source": [
        "### Energy consumption during 2013"
      ],
      "metadata": {
        "id": "KnjIHn6Wu5d_"
      }
    },
    {
      "cell_type": "code",
      "source": [
        "y2013_df.groupby(\"month\").sum()[\"energy_sum\"].sort_values().plot.bar()"
      ],
      "metadata": {
        "execution": {
          "iopub.status.busy": "2022-09-02T01:36:00.140662Z",
          "iopub.execute_input": "2022-09-02T01:36:00.14109Z",
          "iopub.status.idle": "2022-09-02T01:36:00.880209Z",
          "shell.execute_reply.started": "2022-09-02T01:36:00.141052Z",
          "shell.execute_reply": "2022-09-02T01:36:00.87882Z"
        },
        "trusted": true,
        "id": "ujY1_9nKu5d_"
      },
      "execution_count": null,
      "outputs": []
    },
    {
      "cell_type": "markdown",
      "source": [
        "## Correlation with weather data and implementing clustering algorithm"
      ],
      "metadata": {
        "papermill": {
          "duration": 0.052021,
          "end_time": "2022-08-14T13:00:52.190876",
          "exception": false,
          "start_time": "2022-08-14T13:00:52.138855",
          "status": "completed"
        },
        "tags": [],
        "id": "uDyIgXncu5d_"
      }
    },
    {
      "cell_type": "code",
      "source": [
        "all_daily_df_2 = all_daily_df.copy()"
      ],
      "metadata": {
        "papermill": {
          "duration": 0.824451,
          "end_time": "2022-08-14T13:00:53.067856",
          "exception": false,
          "start_time": "2022-08-14T13:00:52.243405",
          "status": "completed"
        },
        "tags": [],
        "execution": {
          "iopub.status.busy": "2022-09-02T01:36:00.881837Z",
          "iopub.execute_input": "2022-09-02T01:36:00.882434Z",
          "iopub.status.idle": "2022-09-02T01:36:01.630978Z",
          "shell.execute_reply.started": "2022-09-02T01:36:00.882393Z",
          "shell.execute_reply": "2022-09-02T01:36:01.629671Z"
        },
        "trusted": true,
        "id": "dBp8GNn-u5d_"
      },
      "execution_count": null,
      "outputs": []
    },
    {
      "cell_type": "code",
      "source": [
        "all_daily_df.head()"
      ],
      "metadata": {
        "papermill": {
          "duration": 0.069942,
          "end_time": "2022-08-14T13:00:53.191264",
          "exception": false,
          "start_time": "2022-08-14T13:00:53.121322",
          "status": "completed"
        },
        "tags": [],
        "execution": {
          "iopub.status.busy": "2022-09-02T01:36:01.633278Z",
          "iopub.execute_input": "2022-09-02T01:36:01.633822Z",
          "iopub.status.idle": "2022-09-02T01:36:01.651485Z",
          "shell.execute_reply.started": "2022-09-02T01:36:01.633769Z",
          "shell.execute_reply": "2022-09-02T01:36:01.65003Z"
        },
        "trusted": true,
        "id": "u0Y-TO-qu5d_"
      },
      "execution_count": null,
      "outputs": []
    },
    {
      "cell_type": "code",
      "source": [
        "len(all_daily_df)"
      ],
      "metadata": {
        "papermill": {
          "duration": 0.063258,
          "end_time": "2022-08-14T13:00:53.409123",
          "exception": false,
          "start_time": "2022-08-14T13:00:53.345865",
          "status": "completed"
        },
        "tags": [],
        "execution": {
          "iopub.status.busy": "2022-09-02T01:36:01.664309Z",
          "iopub.execute_input": "2022-09-02T01:36:01.664962Z",
          "iopub.status.idle": "2022-09-02T01:36:01.672621Z",
          "shell.execute_reply.started": "2022-09-02T01:36:01.664908Z",
          "shell.execute_reply": "2022-09-02T01:36:01.671149Z"
        },
        "trusted": true,
        "id": "s92fy-SOu5eA"
      },
      "execution_count": null,
      "outputs": []
    },
    {
      "cell_type": "code",
      "source": [
        "total_houses = all_daily_df.groupby('day')[['LCLid']].nunique()\n",
        "total_houses.head()"
      ],
      "metadata": {
        "papermill": {
          "duration": 1.156412,
          "end_time": "2022-08-14T13:00:54.619012",
          "exception": false,
          "start_time": "2022-08-14T13:00:53.4626",
          "status": "completed"
        },
        "tags": [],
        "execution": {
          "iopub.status.busy": "2022-09-02T01:36:01.674412Z",
          "iopub.execute_input": "2022-09-02T01:36:01.675509Z",
          "iopub.status.idle": "2022-09-02T01:36:02.907321Z",
          "shell.execute_reply.started": "2022-09-02T01:36:01.675463Z",
          "shell.execute_reply": "2022-09-02T01:36:02.905633Z"
        },
        "trusted": true,
        "id": "zRFRegNwu5eA"
      },
      "execution_count": null,
      "outputs": []
    },
    {
      "cell_type": "code",
      "source": [
        "all_daily_df = all_daily_df.groupby('day')[['energy_sum']].sum()\n",
        "all_daily_df = all_daily_df.merge(total_houses, on = ['day'])\n",
        "all_daily_df = all_daily_df.reset_index()"
      ],
      "metadata": {
        "papermill": {
          "duration": 0.203846,
          "end_time": "2022-08-14T13:00:55.291351",
          "exception": false,
          "start_time": "2022-08-14T13:00:55.087505",
          "status": "completed"
        },
        "tags": [],
        "execution": {
          "iopub.status.busy": "2022-09-02T01:36:02.909292Z",
          "iopub.execute_input": "2022-09-02T01:36:02.909832Z",
          "iopub.status.idle": "2022-09-02T01:36:03.203369Z",
          "shell.execute_reply.started": "2022-09-02T01:36:02.90978Z",
          "shell.execute_reply": "2022-09-02T01:36:03.202252Z"
        },
        "trusted": true,
        "id": "V_q6t9Abu5eA"
      },
      "execution_count": null,
      "outputs": []
    },
    {
      "cell_type": "code",
      "source": [
        "all_daily_df.count()"
      ],
      "metadata": {
        "papermill": {
          "duration": 0.06773,
          "end_time": "2022-08-14T13:00:55.413794",
          "exception": false,
          "start_time": "2022-08-14T13:00:55.346064",
          "status": "completed"
        },
        "tags": [],
        "execution": {
          "iopub.status.busy": "2022-09-02T01:36:03.204987Z",
          "iopub.execute_input": "2022-09-02T01:36:03.205579Z",
          "iopub.status.idle": "2022-09-02T01:36:03.217698Z",
          "shell.execute_reply.started": "2022-09-02T01:36:03.205542Z",
          "shell.execute_reply": "2022-09-02T01:36:03.216166Z"
        },
        "trusted": true,
        "id": "CLYlSPZqu5eA"
      },
      "execution_count": null,
      "outputs": []
    },
    {
      "cell_type": "code",
      "source": [
        "all_daily_df.day = pd.to_datetime(all_daily_df.day,format='%Y-%m-%d').dt.date"
      ],
      "metadata": {
        "papermill": {
          "duration": 0.065037,
          "end_time": "2022-08-14T13:00:55.532448",
          "exception": false,
          "start_time": "2022-08-14T13:00:55.467411",
          "status": "completed"
        },
        "tags": [],
        "execution": {
          "iopub.status.busy": "2022-09-02T01:36:03.219656Z",
          "iopub.execute_input": "2022-09-02T01:36:03.220457Z",
          "iopub.status.idle": "2022-09-02T01:36:03.231853Z",
          "shell.execute_reply.started": "2022-09-02T01:36:03.220415Z",
          "shell.execute_reply": "2022-09-02T01:36:03.230138Z"
        },
        "trusted": true,
        "id": "9Sv8pGbFu5eA"
      },
      "execution_count": null,
      "outputs": []
    },
    {
      "cell_type": "code",
      "source": [
        "all_daily_df['avg_energy'] = all_daily_df['energy_sum']/all_daily_df['LCLid']\n",
        "print(\"Start date of the dataset\", min(all_daily_df.day))\n",
        "print(\"End date of the dataset\", max(all_daily_df.day))"
      ],
      "metadata": {
        "papermill": {
          "duration": 0.06571,
          "end_time": "2022-08-14T13:00:55.652693",
          "exception": false,
          "start_time": "2022-08-14T13:00:55.586983",
          "status": "completed"
        },
        "tags": [],
        "execution": {
          "iopub.status.busy": "2022-09-02T01:36:03.233839Z",
          "iopub.execute_input": "2022-09-02T01:36:03.234979Z",
          "iopub.status.idle": "2022-09-02T01:36:03.250661Z",
          "shell.execute_reply.started": "2022-09-02T01:36:03.234908Z",
          "shell.execute_reply": "2022-09-02T01:36:03.249464Z"
        },
        "trusted": true,
        "id": "C3ef72Ibu5eB"
      },
      "execution_count": null,
      "outputs": []
    },
    {
      "cell_type": "code",
      "source": [
        "all_daily_df.describe()"
      ],
      "metadata": {
        "papermill": {
          "duration": 0.084477,
          "end_time": "2022-08-14T13:00:55.790697",
          "exception": false,
          "start_time": "2022-08-14T13:00:55.70622",
          "status": "completed"
        },
        "tags": [],
        "execution": {
          "iopub.status.busy": "2022-09-02T01:36:03.252497Z",
          "iopub.execute_input": "2022-09-02T01:36:03.253483Z",
          "iopub.status.idle": "2022-09-02T01:36:03.285474Z",
          "shell.execute_reply.started": "2022-09-02T01:36:03.253437Z",
          "shell.execute_reply": "2022-09-02T01:36:03.283823Z"
        },
        "trusted": true,
        "id": "hxCdxT1Ru5eB"
      },
      "execution_count": null,
      "outputs": []
    },
    {
      "cell_type": "code",
      "source": [
        "weather_daily_df = pd.read_csv('../input/smart-meters-in-london/weather_daily_darksky.csv')\n",
        "weather_daily_df.head()"
      ],
      "metadata": {
        "papermill": {
          "duration": 0.127223,
          "end_time": "2022-08-14T13:00:55.985942",
          "exception": false,
          "start_time": "2022-08-14T13:00:55.858719",
          "status": "completed"
        },
        "tags": [],
        "execution": {
          "iopub.status.busy": "2022-09-02T01:36:03.28742Z",
          "iopub.execute_input": "2022-09-02T01:36:03.287791Z",
          "iopub.status.idle": "2022-09-02T01:36:03.352818Z",
          "shell.execute_reply.started": "2022-09-02T01:36:03.287758Z",
          "shell.execute_reply": "2022-09-02T01:36:03.351292Z"
        },
        "trusted": true,
        "id": "JFDD_tXnu5eB"
      },
      "execution_count": null,
      "outputs": []
    },
    {
      "cell_type": "code",
      "source": [
        "weather_daily_df.describe()"
      ],
      "metadata": {
        "papermill": {
          "duration": 0.121668,
          "end_time": "2022-08-14T13:00:56.161868",
          "exception": false,
          "start_time": "2022-08-14T13:00:56.0402",
          "status": "completed"
        },
        "tags": [],
        "execution": {
          "iopub.status.busy": "2022-09-02T01:36:03.354523Z",
          "iopub.execute_input": "2022-09-02T01:36:03.354936Z",
          "iopub.status.idle": "2022-09-02T01:36:03.43039Z",
          "shell.execute_reply.started": "2022-09-02T01:36:03.354898Z",
          "shell.execute_reply": "2022-09-02T01:36:03.429049Z"
        },
        "trusted": true,
        "id": "SwjwPO1cu5eB"
      },
      "execution_count": null,
      "outputs": []
    },
    {
      "cell_type": "code",
      "source": [
        "weather_daily_df['day'] = pd.to_datetime(weather_daily_df['time'])\n",
        "weather_daily_df['day'] = pd.to_datetime(weather_daily_df['day'], format = '%Y%m%d').dt.date\n",
        "\n",
        "# selecting columns with numeric values\n",
        "weather_daily_df = weather_daily_df[['temperatureMax', 'windBearing', 'dewPoint', 'cloudCover', 'windSpeed',\n",
        "       'pressure', 'apparentTemperatureHigh', 'visibility', 'humidity',\n",
        "       'apparentTemperatureLow', 'apparentTemperatureMax', 'uvIndex',\n",
        "       'temperatureLow', 'temperatureMin', 'temperatureHigh',\n",
        "       'apparentTemperatureMin', 'moonPhase','day']]\n",
        "weather_daily_df = weather_daily_df.dropna()"
      ],
      "metadata": {
        "papermill": {
          "duration": 0.073737,
          "end_time": "2022-08-14T13:00:56.290191",
          "exception": false,
          "start_time": "2022-08-14T13:00:56.216454",
          "status": "completed"
        },
        "tags": [],
        "execution": {
          "iopub.status.busy": "2022-09-02T01:36:03.432014Z",
          "iopub.execute_input": "2022-09-02T01:36:03.433329Z",
          "iopub.status.idle": "2022-09-02T01:36:03.450731Z",
          "shell.execute_reply.started": "2022-09-02T01:36:03.433273Z",
          "shell.execute_reply": "2022-09-02T01:36:03.449052Z"
        },
        "trusted": true,
        "id": "UL2ak_MZu5eB"
      },
      "execution_count": null,
      "outputs": []
    },
    {
      "cell_type": "markdown",
      "source": [
        "### Finding association between weather data with energy comsumption data"
      ],
      "metadata": {
        "papermill": {
          "duration": 0.05414,
          "end_time": "2022-08-14T13:00:56.398933",
          "exception": false,
          "start_time": "2022-08-14T13:00:56.344793",
          "status": "completed"
        },
        "tags": [],
        "id": "A0eP7mBxu5eC"
      }
    },
    {
      "cell_type": "code",
      "source": [
        "weather_with_energy = all_daily_df.merge(weather_daily_df, on = 'day')\n",
        "weather_with_energy.head()"
      ],
      "metadata": {
        "papermill": {
          "duration": 0.09135,
          "end_time": "2022-08-14T13:00:56.545178",
          "exception": false,
          "start_time": "2022-08-14T13:00:56.453828",
          "status": "completed"
        },
        "tags": [],
        "execution": {
          "iopub.status.busy": "2022-09-02T01:36:03.452611Z",
          "iopub.execute_input": "2022-09-02T01:36:03.453636Z",
          "iopub.status.idle": "2022-09-02T01:36:03.496872Z",
          "shell.execute_reply.started": "2022-09-02T01:36:03.453581Z",
          "shell.execute_reply": "2022-09-02T01:36:03.495531Z"
        },
        "trusted": true,
        "id": "iK-nam3Xu5eC"
      },
      "execution_count": null,
      "outputs": []
    },
    {
      "cell_type": "markdown",
      "source": [
        "### 1. Temperature"
      ],
      "metadata": {
        "papermill": {
          "duration": 0.054593,
          "end_time": "2022-08-14T13:00:56.654659",
          "exception": false,
          "start_time": "2022-08-14T13:00:56.600066",
          "status": "completed"
        },
        "tags": [],
        "id": "BOoSRaNIu5eC"
      }
    },
    {
      "cell_type": "code",
      "source": [
        "fig, ax1 = plt.subplots(figsize = (20,5))\n",
        "ax1.plot(weather_with_energy.day, weather_with_energy.temperatureMax, color = 'tab:red')\n",
        "ax1.plot(weather_with_energy.day, weather_with_energy.temperatureMin, color = 'tab:grey')\n",
        "ax1.set_ylabel('Temperature')\n",
        "ax1.legend()\n",
        "ax2 = ax1.twinx()\n",
        "ax2.plot(weather_with_energy.day,weather_with_energy.avg_energy,color = 'tab:blue')\n",
        "ax2.set_ylabel('Average Energy/Household',color = 'tab:blue')\n",
        "ax2.legend(bbox_to_anchor=(0.0, 1.02, 1.0, 0.102))\n",
        "plt.title('Energy Consumption and Temperature')\n",
        "fig.tight_layout()\n",
        "plt.show()"
      ],
      "metadata": {
        "papermill": {
          "duration": 0.515768,
          "end_time": "2022-08-14T13:00:57.226152",
          "exception": false,
          "start_time": "2022-08-14T13:00:56.710384",
          "status": "completed"
        },
        "tags": [],
        "execution": {
          "iopub.status.busy": "2022-09-02T01:36:03.498504Z",
          "iopub.execute_input": "2022-09-02T01:36:03.499675Z",
          "iopub.status.idle": "2022-09-02T01:36:04.043491Z",
          "shell.execute_reply.started": "2022-09-02T01:36:03.499627Z",
          "shell.execute_reply": "2022-09-02T01:36:04.041812Z"
        },
        "trusted": true,
        "id": "5DIm2C1Zu5eC"
      },
      "execution_count": null,
      "outputs": []
    },
    {
      "cell_type": "markdown",
      "source": [
        "### 2. Humidity"
      ],
      "metadata": {
        "papermill": {
          "duration": 0.058576,
          "end_time": "2022-08-14T13:00:57.345411",
          "exception": false,
          "start_time": "2022-08-14T13:00:57.286835",
          "status": "completed"
        },
        "tags": [],
        "id": "2T9N4YkPu5eC"
      }
    },
    {
      "cell_type": "code",
      "source": [
        "fig, ax1 = plt.subplots(figsize = (20,5))\n",
        "ax1.plot(weather_with_energy.day, weather_with_energy.humidity, color = 'tab:pink')\n",
        "ax1.set_ylabel('Humidity',color = 'tab:pink')\n",
        "ax2 = ax1.twinx()\n",
        "ax2.plot(weather_with_energy.day,weather_with_energy.avg_energy,color = 'tab:blue')\n",
        "ax2.set_ylabel('Average Energy/Household',color = 'tab:blue')\n",
        "plt.title('Energy Consumption and Humidity')\n",
        "fig.tight_layout()\n",
        "plt.show()"
      ],
      "metadata": {
        "papermill": {
          "duration": 0.477363,
          "end_time": "2022-08-14T13:00:57.881925",
          "exception": false,
          "start_time": "2022-08-14T13:00:57.404562",
          "status": "completed"
        },
        "tags": [],
        "execution": {
          "iopub.status.busy": "2022-09-02T01:36:04.045346Z",
          "iopub.execute_input": "2022-09-02T01:36:04.046469Z",
          "iopub.status.idle": "2022-09-02T01:36:04.540041Z",
          "shell.execute_reply.started": "2022-09-02T01:36:04.046401Z",
          "shell.execute_reply": "2022-09-02T01:36:04.538593Z"
        },
        "trusted": true,
        "id": "rlZPAIJ5u5eC"
      },
      "execution_count": null,
      "outputs": []
    },
    {
      "cell_type": "markdown",
      "source": [
        "### 3. Cloud Cover"
      ],
      "metadata": {
        "papermill": {
          "duration": 0.062066,
          "end_time": "2022-08-14T13:00:58.007367",
          "exception": false,
          "start_time": "2022-08-14T13:00:57.945301",
          "status": "completed"
        },
        "tags": [],
        "id": "im37hAq-u5eD"
      }
    },
    {
      "cell_type": "code",
      "source": [
        "fig, ax1 = plt.subplots(figsize = (20,5))\n",
        "ax1.plot(weather_with_energy.day, weather_with_energy.cloudCover, color = 'tab:grey')\n",
        "ax1.set_ylabel('Cloud Cover',color = 'tab:grey')\n",
        "ax2 = ax1.twinx()\n",
        "ax2.plot(weather_with_energy.day,weather_with_energy.avg_energy,color = 'tab:blue')\n",
        "ax2.set_ylabel('Average Energy/Household',color = 'tab:blue')\n",
        "plt.title('Energy Consumption and Cloud Cover')\n",
        "fig.tight_layout()\n",
        "plt.show()"
      ],
      "metadata": {
        "papermill": {
          "duration": 0.479954,
          "end_time": "2022-08-14T13:00:58.549986",
          "exception": false,
          "start_time": "2022-08-14T13:00:58.070032",
          "status": "completed"
        },
        "tags": [],
        "execution": {
          "iopub.status.busy": "2022-09-02T01:36:04.541648Z",
          "iopub.execute_input": "2022-09-02T01:36:04.542835Z",
          "iopub.status.idle": "2022-09-02T01:36:04.948771Z",
          "shell.execute_reply.started": "2022-09-02T01:36:04.542788Z",
          "shell.execute_reply": "2022-09-02T01:36:04.947205Z"
        },
        "trusted": true,
        "id": "yeSclFaLu5eD"
      },
      "execution_count": null,
      "outputs": []
    },
    {
      "cell_type": "markdown",
      "source": [
        "### 4. Visibility"
      ],
      "metadata": {
        "papermill": {
          "duration": 0.064566,
          "end_time": "2022-08-14T13:00:58.681733",
          "exception": false,
          "start_time": "2022-08-14T13:00:58.617167",
          "status": "completed"
        },
        "tags": [],
        "id": "VIbKalRGu5eD"
      }
    },
    {
      "cell_type": "code",
      "source": [
        "fig, ax1 = plt.subplots(figsize = (20,5))\n",
        "ax1.plot(weather_with_energy.day, weather_with_energy.visibility, color = 'tab:purple')\n",
        "ax1.set_ylabel('Visibility',color = 'tab:purple')\n",
        "ax2 = ax1.twinx()\n",
        "ax2.plot(weather_with_energy.day,weather_with_energy.avg_energy,color = 'tab:blue')\n",
        "ax2.set_ylabel('Average Energy/Household',color = 'tab:blue')\n",
        "plt.title('Energy Consumption and Visibility')\n",
        "fig.tight_layout()\n",
        "plt.show()"
      ],
      "metadata": {
        "papermill": {
          "duration": 0.493,
          "end_time": "2022-08-14T13:00:59.239035",
          "exception": false,
          "start_time": "2022-08-14T13:00:58.746035",
          "status": "completed"
        },
        "tags": [],
        "execution": {
          "iopub.status.busy": "2022-09-02T01:36:04.950779Z",
          "iopub.execute_input": "2022-09-02T01:36:04.95187Z",
          "iopub.status.idle": "2022-09-02T01:36:05.361768Z",
          "shell.execute_reply.started": "2022-09-02T01:36:04.951821Z",
          "shell.execute_reply": "2022-09-02T01:36:05.360316Z"
        },
        "trusted": true,
        "id": "cZeAQbAnu5eD"
      },
      "execution_count": null,
      "outputs": []
    },
    {
      "cell_type": "markdown",
      "source": [
        "### 5. Wind Speed"
      ],
      "metadata": {
        "papermill": {
          "duration": 0.068581,
          "end_time": "2022-08-14T13:00:59.377256",
          "exception": false,
          "start_time": "2022-08-14T13:00:59.308675",
          "status": "completed"
        },
        "tags": [],
        "id": "uwLtsYGxu5eD"
      }
    },
    {
      "cell_type": "code",
      "source": [
        "fig, ax1 = plt.subplots(figsize = (20,5))\n",
        "ax1.plot(weather_with_energy.day, weather_with_energy.windSpeed, color = 'tab:brown')\n",
        "ax1.set_ylabel('Wind Speed',color = 'tab:brown')\n",
        "ax2 = ax1.twinx()\n",
        "ax2.plot(weather_with_energy.day,weather_with_energy.avg_energy,color = 'tab:blue')\n",
        "ax2.set_ylabel('Average Energy/Household',color = 'tab:blue')\n",
        "plt.title('Energy Consumption and Wind Speed')\n",
        "fig.tight_layout()\n",
        "plt.show()"
      ],
      "metadata": {
        "papermill": {
          "duration": 0.485436,
          "end_time": "2022-08-14T13:00:59.930571",
          "exception": false,
          "start_time": "2022-08-14T13:00:59.445135",
          "status": "completed"
        },
        "tags": [],
        "execution": {
          "iopub.status.busy": "2022-09-02T01:36:05.363695Z",
          "iopub.execute_input": "2022-09-02T01:36:05.364229Z",
          "iopub.status.idle": "2022-09-02T01:36:05.745374Z",
          "shell.execute_reply.started": "2022-09-02T01:36:05.364178Z",
          "shell.execute_reply": "2022-09-02T01:36:05.744015Z"
        },
        "trusted": true,
        "id": "3YoLa3rHu5eD"
      },
      "execution_count": null,
      "outputs": []
    },
    {
      "cell_type": "markdown",
      "source": [
        "### 6. UV index"
      ],
      "metadata": {
        "papermill": {
          "duration": 0.071933,
          "end_time": "2022-08-14T13:01:00.075566",
          "exception": false,
          "start_time": "2022-08-14T13:01:00.003633",
          "status": "completed"
        },
        "tags": [],
        "id": "lkAwu4EEu5eE"
      }
    },
    {
      "cell_type": "code",
      "source": [
        "fig, ax1 = plt.subplots(figsize = (20,5))\n",
        "ax1.plot(weather_with_energy.day, weather_with_energy.uvIndex, color = 'tab:green')\n",
        "ax1.set_ylabel('UV Index',color = 'tab:green')\n",
        "ax2 = ax1.twinx()\n",
        "ax2.plot(weather_with_energy.day,weather_with_energy.avg_energy,color = 'tab:blue')\n",
        "ax2.set_ylabel('Average Energy/Household',color = 'tab:blue')\n",
        "plt.title('Energy Consumption and UV Index')\n",
        "fig.tight_layout()\n",
        "plt.show()"
      ],
      "metadata": {
        "papermill": {
          "duration": 0.488126,
          "end_time": "2022-08-14T13:01:00.635586",
          "exception": false,
          "start_time": "2022-08-14T13:01:00.14746",
          "status": "completed"
        },
        "tags": [],
        "execution": {
          "iopub.status.busy": "2022-09-02T01:36:05.747234Z",
          "iopub.execute_input": "2022-09-02T01:36:05.747696Z",
          "iopub.status.idle": "2022-09-02T01:36:06.215613Z",
          "shell.execute_reply.started": "2022-09-02T01:36:05.747653Z",
          "shell.execute_reply": "2022-09-02T01:36:06.214665Z"
        },
        "trusted": true,
        "id": "MpMRzFaYu5eE"
      },
      "execution_count": null,
      "outputs": []
    },
    {
      "cell_type": "markdown",
      "source": [
        "### 7. Dew Point"
      ],
      "metadata": {
        "papermill": {
          "duration": 0.072968,
          "end_time": "2022-08-14T13:01:00.784876",
          "exception": false,
          "start_time": "2022-08-14T13:01:00.711908",
          "status": "completed"
        },
        "tags": [],
        "id": "34uCjf4Qu5eE"
      }
    },
    {
      "cell_type": "code",
      "source": [
        "fig, ax1 = plt.subplots(figsize = (20,5))\n",
        "ax1.plot(weather_with_energy.day, weather_with_energy.dewPoint, color = 'tab:orange')\n",
        "ax1.set_ylabel('Dew Point',color = 'tab:orange')\n",
        "ax2 = ax1.twinx()\n",
        "ax2.plot(weather_with_energy.day,weather_with_energy.avg_energy,color = 'tab:blue')\n",
        "ax2.set_ylabel('Average Energy/Household',color = 'tab:blue')\n",
        "plt.title('Energy Consumption and Dew Point')\n",
        "fig.tight_layout()\n",
        "plt.show()"
      ],
      "metadata": {
        "papermill": {
          "duration": 0.485534,
          "end_time": "2022-08-14T13:01:01.344336",
          "exception": false,
          "start_time": "2022-08-14T13:01:00.858802",
          "status": "completed"
        },
        "tags": [],
        "execution": {
          "iopub.status.busy": "2022-09-02T01:36:06.217144Z",
          "iopub.execute_input": "2022-09-02T01:36:06.217758Z",
          "iopub.status.idle": "2022-09-02T01:36:06.681049Z",
          "shell.execute_reply.started": "2022-09-02T01:36:06.217719Z",
          "shell.execute_reply": "2022-09-02T01:36:06.679767Z"
        },
        "trusted": true,
        "id": "o4oukemeu5eE"
      },
      "execution_count": null,
      "outputs": []
    },
    {
      "cell_type": "code",
      "source": [
        "corr_weather_with_energy = weather_with_energy[['avg_energy','temperatureMax','dewPoint', 'cloudCover', 'windSpeed','pressure', 'visibility', 'humidity','uvIndex', 'moonPhase']].corr()\n",
        "corr_weather_with_energy"
      ],
      "metadata": {
        "papermill": {
          "duration": 0.110054,
          "end_time": "2022-08-14T13:01:01.536076",
          "exception": false,
          "start_time": "2022-08-14T13:01:01.426022",
          "status": "completed"
        },
        "tags": [],
        "execution": {
          "iopub.status.busy": "2022-09-02T01:36:06.682786Z",
          "iopub.execute_input": "2022-09-02T01:36:06.683804Z",
          "iopub.status.idle": "2022-09-02T01:36:06.709222Z",
          "shell.execute_reply.started": "2022-09-02T01:36:06.68376Z",
          "shell.execute_reply": "2022-09-02T01:36:06.70827Z"
        },
        "trusted": true,
        "id": "pk34JsFVu5eE"
      },
      "execution_count": null,
      "outputs": []
    },
    {
      "cell_type": "markdown",
      "source": [
        "### K-Means Clustering on the highly correlated columns"
      ],
      "metadata": {
        "id": "cD9fPfotu5eF"
      }
    },
    {
      "cell_type": "code",
      "source": [
        "from sklearn.cluster import KMeans\n",
        "from sklearn.preprocessing import MinMaxScaler\n",
        "\n",
        "scaler = MinMaxScaler(feature_range=(0, 1))\n",
        "X = scaler.fit_transform(weather_daily_df[['temperatureMax','humidity','windSpeed']])\n",
        "\n",
        "Nc = range(1, 20)\n",
        "kmeans = [KMeans(n_clusters=i) for i in Nc]\n",
        "score = [kmeans[i].fit(X).score(X) for i in range(len(kmeans))]\n",
        "\n",
        "plt.plot(Nc,score)\n",
        "plt.xlabel('Number of Clusters')\n",
        "plt.ylabel('Score')\n",
        "plt.title('Elbow Curve')\n",
        "plt.show()"
      ],
      "metadata": {
        "papermill": {
          "duration": 3.081317,
          "end_time": "2022-08-14T13:01:04.6964",
          "exception": false,
          "start_time": "2022-08-14T13:01:01.615083",
          "status": "completed"
        },
        "tags": [],
        "execution": {
          "iopub.status.busy": "2022-09-02T01:36:06.710398Z",
          "iopub.execute_input": "2022-09-02T01:36:06.711356Z",
          "iopub.status.idle": "2022-09-02T01:36:09.881747Z",
          "shell.execute_reply.started": "2022-09-02T01:36:06.711301Z",
          "shell.execute_reply": "2022-09-02T01:36:09.880317Z"
        },
        "trusted": true,
        "id": "2hReYmSKu5eF"
      },
      "execution_count": null,
      "outputs": []
    },
    {
      "cell_type": "code",
      "source": [
        "kmeans = KMeans(n_clusters=4).fit(X)\n",
        "centroids = kmeans.cluster_centers_\n",
        "print(centroids)"
      ],
      "metadata": {
        "papermill": {
          "duration": 0.197917,
          "end_time": "2022-08-14T13:01:04.972506",
          "exception": false,
          "start_time": "2022-08-14T13:01:04.774589",
          "status": "completed"
        },
        "tags": [],
        "execution": {
          "iopub.status.busy": "2022-09-02T01:36:09.883697Z",
          "iopub.execute_input": "2022-09-02T01:36:09.884143Z",
          "iopub.status.idle": "2022-09-02T01:36:09.996971Z",
          "shell.execute_reply.started": "2022-09-02T01:36:09.884102Z",
          "shell.execute_reply": "2022-09-02T01:36:09.995628Z"
        },
        "trusted": true,
        "id": "9Y2wjkPXu5eF"
      },
      "execution_count": null,
      "outputs": []
    },
    {
      "cell_type": "markdown",
      "source": [
        "## Forcasting using prophet using Apache Spark (Pyspark)"
      ],
      "metadata": {
        "id": "l_DOuP07u5eF"
      }
    },
    {
      "cell_type": "code",
      "source": [
        "# Convert the date column to datetime\n",
        "all_daily_df_2['day'] = pd.to_datetime(all_daily_df_2['day'])"
      ],
      "metadata": {
        "papermill": {
          "duration": 0.115399,
          "end_time": "2022-08-14T13:01:05.319667",
          "exception": false,
          "start_time": "2022-08-14T13:01:05.204268",
          "status": "completed"
        },
        "tags": [],
        "execution": {
          "iopub.status.busy": "2022-09-02T01:36:09.998816Z",
          "iopub.execute_input": "2022-09-02T01:36:09.999588Z",
          "iopub.status.idle": "2022-09-02T01:36:10.033602Z",
          "shell.execute_reply.started": "2022-09-02T01:36:09.999534Z",
          "shell.execute_reply": "2022-09-02T01:36:10.032581Z"
        },
        "trusted": true,
        "id": "8GIbbpXxu5eF"
      },
      "execution_count": null,
      "outputs": []
    },
    {
      "cell_type": "code",
      "source": [
        "len(all_daily_df_2)"
      ],
      "metadata": {
        "execution": {
          "iopub.status.busy": "2022-09-02T01:36:10.035477Z",
          "iopub.execute_input": "2022-09-02T01:36:10.036314Z",
          "iopub.status.idle": "2022-09-02T01:36:10.044917Z",
          "shell.execute_reply.started": "2022-09-02T01:36:10.036263Z",
          "shell.execute_reply": "2022-09-02T01:36:10.043639Z"
        },
        "trusted": true,
        "id": "-PB-RMaqu5eF"
      },
      "execution_count": null,
      "outputs": []
    },
    {
      "cell_type": "code",
      "source": [
        "df3 = all_daily_df_2[[\"day\",\"energy_sum\"]].head(1821)\n",
        "\n",
        "# Rename columns - Following Prophet requirements\n",
        "df3.columns = [\"ds\", \"y\"]"
      ],
      "metadata": {
        "execution": {
          "iopub.status.busy": "2022-09-02T01:36:10.046336Z",
          "iopub.execute_input": "2022-09-02T01:36:10.046893Z",
          "iopub.status.idle": "2022-09-02T01:36:10.077163Z",
          "shell.execute_reply.started": "2022-09-02T01:36:10.046699Z",
          "shell.execute_reply": "2022-09-02T01:36:10.075936Z"
        },
        "trusted": true,
        "id": "I3X6ENdEu5eF"
      },
      "execution_count": null,
      "outputs": []
    },
    {
      "cell_type": "code",
      "source": [
        "train = df3.iloc[:-365]\n",
        "test = df3.iloc[-365:]"
      ],
      "metadata": {
        "execution": {
          "iopub.status.busy": "2022-09-02T01:36:10.078793Z",
          "iopub.execute_input": "2022-09-02T01:36:10.079541Z",
          "iopub.status.idle": "2022-09-02T01:36:10.085857Z",
          "shell.execute_reply.started": "2022-09-02T01:36:10.079498Z",
          "shell.execute_reply": "2022-09-02T01:36:10.084529Z"
        },
        "trusted": true,
        "id": "0itJytTju5eG"
      },
      "execution_count": null,
      "outputs": []
    },
    {
      "cell_type": "code",
      "source": [
        "test.count()"
      ],
      "metadata": {
        "execution": {
          "iopub.status.busy": "2022-09-02T01:36:10.087465Z",
          "iopub.execute_input": "2022-09-02T01:36:10.08783Z",
          "iopub.status.idle": "2022-09-02T01:36:10.103732Z",
          "shell.execute_reply.started": "2022-09-02T01:36:10.087798Z",
          "shell.execute_reply": "2022-09-02T01:36:10.102347Z"
        },
        "trusted": true,
        "id": "1gYA54fzu5eG"
      },
      "execution_count": null,
      "outputs": []
    },
    {
      "cell_type": "code",
      "source": [
        "train.count()"
      ],
      "metadata": {
        "execution": {
          "iopub.status.busy": "2022-09-02T01:36:10.106143Z",
          "iopub.execute_input": "2022-09-02T01:36:10.106785Z",
          "iopub.status.idle": "2022-09-02T01:36:10.121347Z",
          "shell.execute_reply.started": "2022-09-02T01:36:10.106734Z",
          "shell.execute_reply": "2022-09-02T01:36:10.119383Z"
        },
        "trusted": true,
        "id": "8pA1qeT0u5eG"
      },
      "execution_count": null,
      "outputs": []
    },
    {
      "cell_type": "code",
      "source": [
        "m = Prophet()\n",
        "m.fit(train)\n",
        "future = m.make_future_dataframe(periods=365) #MS for monthly, H for hourly\n",
        "forecast = m.predict(future)"
      ],
      "metadata": {
        "execution": {
          "iopub.status.busy": "2022-09-02T01:36:10.123495Z",
          "iopub.execute_input": "2022-09-02T01:36:10.123891Z",
          "iopub.status.idle": "2022-09-02T01:36:16.881536Z",
          "shell.execute_reply.started": "2022-09-02T01:36:10.123857Z",
          "shell.execute_reply": "2022-09-02T01:36:16.880134Z"
        },
        "trusted": true,
        "id": "pVApjAnVu5eG"
      },
      "execution_count": null,
      "outputs": []
    },
    {
      "cell_type": "code",
      "source": [
        "forecast.tail()"
      ],
      "metadata": {
        "execution": {
          "iopub.status.busy": "2022-09-02T01:36:16.883366Z",
          "iopub.execute_input": "2022-09-02T01:36:16.883739Z",
          "iopub.status.idle": "2022-09-02T01:36:16.915152Z",
          "shell.execute_reply.started": "2022-09-02T01:36:16.883705Z",
          "shell.execute_reply": "2022-09-02T01:36:16.913888Z"
        },
        "trusted": true,
        "id": "OBZ8c37ju5eG"
      },
      "execution_count": null,
      "outputs": []
    },
    {
      "cell_type": "code",
      "source": [
        "forecast[['ds', 'yhat', 'yhat_lower', 'yhat_upper']].tail()"
      ],
      "metadata": {
        "execution": {
          "iopub.status.busy": "2022-09-02T01:36:16.917414Z",
          "iopub.execute_input": "2022-09-02T01:36:16.918339Z",
          "iopub.status.idle": "2022-09-02T01:36:16.935074Z",
          "shell.execute_reply.started": "2022-09-02T01:36:16.918273Z",
          "shell.execute_reply": "2022-09-02T01:36:16.933751Z"
        },
        "trusted": true,
        "id": "bt-6Y8T2u5eG"
      },
      "execution_count": null,
      "outputs": []
    },
    {
      "cell_type": "code",
      "source": [
        "test.tail()"
      ],
      "metadata": {
        "execution": {
          "iopub.status.busy": "2022-09-02T01:36:16.936749Z",
          "iopub.execute_input": "2022-09-02T01:36:16.937454Z",
          "iopub.status.idle": "2022-09-02T01:36:16.949595Z",
          "shell.execute_reply.started": "2022-09-02T01:36:16.937417Z",
          "shell.execute_reply": "2022-09-02T01:36:16.948295Z"
        },
        "trusted": true,
        "id": "XBV8G4Cgu5eH"
      },
      "execution_count": null,
      "outputs": []
    },
    {
      "cell_type": "code",
      "source": [
        "plot_plotly(m ,forecast)"
      ],
      "metadata": {
        "execution": {
          "iopub.status.busy": "2022-09-02T01:36:16.951495Z",
          "iopub.execute_input": "2022-09-02T01:36:16.952543Z",
          "iopub.status.idle": "2022-09-02T01:36:17.263556Z",
          "shell.execute_reply.started": "2022-09-02T01:36:16.952497Z",
          "shell.execute_reply": "2022-09-02T01:36:17.262226Z"
        },
        "trusted": true,
        "id": "JvldD26ou5eH"
      },
      "execution_count": null,
      "outputs": []
    },
    {
      "cell_type": "code",
      "source": [
        "plot_components_plotly(m, forecast)"
      ],
      "metadata": {
        "execution": {
          "iopub.status.busy": "2022-09-02T01:36:17.265396Z",
          "iopub.execute_input": "2022-09-02T01:36:17.26575Z",
          "iopub.status.idle": "2022-09-02T01:36:17.871202Z",
          "shell.execute_reply.started": "2022-09-02T01:36:17.265719Z",
          "shell.execute_reply": "2022-09-02T01:36:17.870161Z"
        },
        "trusted": true,
        "id": "u0evhth6u5eH"
      },
      "execution_count": null,
      "outputs": []
    },
    {
      "cell_type": "markdown",
      "source": [
        "### Evaluating prophet model"
      ],
      "metadata": {
        "id": "HYS6bjnXu5eH"
      }
    },
    {
      "cell_type": "code",
      "source": [
        "from statsmodels.tools.eval_measures import rmse\n",
        "predictions = forecast.iloc[-365:]['yhat']\n",
        "print(\"Root Mean Squared Error between actual and  predicted values: \",rmse(predictions,test['y']))\n",
        "print(\"Mean Value of Test Dataset:\", test['y'].mean())"
      ],
      "metadata": {
        "execution": {
          "iopub.status.busy": "2022-09-02T01:36:17.872603Z",
          "iopub.execute_input": "2022-09-02T01:36:17.873677Z",
          "iopub.status.idle": "2022-09-02T01:36:17.895358Z",
          "shell.execute_reply.started": "2022-09-02T01:36:17.873636Z",
          "shell.execute_reply": "2022-09-02T01:36:17.894133Z"
        },
        "trusted": true,
        "id": "N1jh3e09u5eH"
      },
      "execution_count": null,
      "outputs": []
    },
    {
      "cell_type": "markdown",
      "source": [
        "# PySpark Prophey analysis on the whole dataset"
      ],
      "metadata": {
        "id": "li4oAZh5u5eH"
      }
    },
    {
      "cell_type": "code",
      "source": [
        "\n",
        "# Select necessary columns\n",
        "df2 = all_daily_df_2[[\"day\",\"energy_sum\"]].head(1000)\n",
        "\n",
        "# Rename columns - Following Prophet requirements\n",
        "df2.columns = [\"ds\", \"y\"]\n",
        "\n",
        "\n",
        "# instantiate the model and set parameters\n",
        "model = Prophet(\n",
        "    interval_width=0.95,\n",
        "    growth='linear',\n",
        "    daily_seasonality=False,\n",
        "    weekly_seasonality=True,\n",
        "    yearly_seasonality=True,\n",
        "    seasonality_mode='multiplicative'\n",
        ")\n",
        "\n",
        "# fit the model to historical data\n",
        "model.fit(df2)\n",
        "\n",
        "\n",
        "future_pd = model.make_future_dataframe(\n",
        "    periods=90,\n",
        "    freq='d',\n",
        "    include_history=True\n",
        ")\n",
        "\n",
        "# predict over the dataset\n",
        "forecast_pd = model.predict(future_pd)\n",
        "\n",
        "predict_fig = model.plot(forecast_pd, xlabel='date', ylabel='Average energy usage')"
      ],
      "metadata": {
        "execution": {
          "iopub.status.busy": "2022-09-02T01:36:17.897122Z",
          "iopub.execute_input": "2022-09-02T01:36:17.897962Z",
          "iopub.status.idle": "2022-09-02T01:36:24.057446Z",
          "shell.execute_reply.started": "2022-09-02T01:36:17.897889Z",
          "shell.execute_reply": "2022-09-02T01:36:24.056066Z"
        },
        "trusted": true,
        "id": "B2MHutuju5eI"
      },
      "execution_count": null,
      "outputs": []
    },
    {
      "cell_type": "code",
      "source": [
        "# Select necessary columns\n",
        "df = all_daily_df_2[['day', 'LCLid', 'energy_sum']]\n",
        "\n",
        "# Rename columns - Following Prophet requirements\n",
        "df.columns = ['ds', 'LCLid', 'y']"
      ],
      "metadata": {
        "papermill": {
          "duration": 0.145238,
          "end_time": "2022-08-14T13:01:05.541883",
          "exception": false,
          "start_time": "2022-08-14T13:01:05.396645",
          "status": "completed"
        },
        "tags": [],
        "execution": {
          "iopub.status.busy": "2022-09-02T01:36:24.059402Z",
          "iopub.execute_input": "2022-09-02T01:36:24.059813Z",
          "iopub.status.idle": "2022-09-02T01:36:24.120466Z",
          "shell.execute_reply.started": "2022-09-02T01:36:24.059771Z",
          "shell.execute_reply": "2022-09-02T01:36:24.119153Z"
        },
        "trusted": true,
        "id": "3hBn2E5Qu5eI"
      },
      "execution_count": null,
      "outputs": []
    },
    {
      "cell_type": "code",
      "source": [
        "df"
      ],
      "metadata": {
        "papermill": {
          "duration": 0.098062,
          "end_time": "2022-08-14T13:01:05.717725",
          "exception": false,
          "start_time": "2022-08-14T13:01:05.619663",
          "status": "completed"
        },
        "tags": [],
        "execution": {
          "iopub.status.busy": "2022-09-02T01:36:24.122231Z",
          "iopub.execute_input": "2022-09-02T01:36:24.122655Z",
          "iopub.status.idle": "2022-09-02T01:36:24.140238Z",
          "shell.execute_reply.started": "2022-09-02T01:36:24.122621Z",
          "shell.execute_reply": "2022-09-02T01:36:24.138826Z"
        },
        "trusted": true,
        "id": "OateX_qdu5eI"
      },
      "execution_count": null,
      "outputs": []
    },
    {
      "cell_type": "code",
      "source": [
        "# Read the csv file\n",
        "df = spark.createDataFrame(df)\n",
        "\n",
        "# Display the schema\n",
        "df.printSchema()"
      ],
      "metadata": {
        "papermill": {
          "duration": 160.675274,
          "end_time": "2022-08-14T13:03:46.474092",
          "exception": false,
          "start_time": "2022-08-14T13:01:05.798818",
          "status": "completed"
        },
        "tags": [],
        "execution": {
          "iopub.status.busy": "2022-09-02T01:36:24.142793Z",
          "iopub.execute_input": "2022-09-02T01:36:24.143913Z",
          "iopub.status.idle": "2022-09-02T01:39:01.341962Z",
          "shell.execute_reply.started": "2022-09-02T01:36:24.14387Z",
          "shell.execute_reply": "2022-09-02T01:39:01.340736Z"
        },
        "trusted": true,
        "id": "MaNC_Ssxu5eI"
      },
      "execution_count": null,
      "outputs": []
    },
    {
      "cell_type": "code",
      "source": [
        "# Partition the data\n",
        "df.createOrReplaceTempView(\"Homes\")\n",
        "sql = \"select * from Homes\"\n",
        "df_part = (spark.sql(sql)\\\n",
        "   .repartition(spark.sparkContext.defaultParallelism,\n",
        "   ['LCLid'])).cache()\n",
        "df_part.explain()"
      ],
      "metadata": {
        "papermill": {
          "duration": 0.313337,
          "end_time": "2022-08-14T13:03:46.865411",
          "exception": false,
          "start_time": "2022-08-14T13:03:46.552074",
          "status": "completed"
        },
        "tags": [],
        "execution": {
          "iopub.status.busy": "2022-09-02T01:39:01.343742Z",
          "iopub.execute_input": "2022-09-02T01:39:01.344859Z",
          "iopub.status.idle": "2022-09-02T01:39:01.54858Z",
          "shell.execute_reply.started": "2022-09-02T01:39:01.34481Z",
          "shell.execute_reply": "2022-09-02T01:39:01.547199Z"
        },
        "trusted": true,
        "id": "5Q_FGW27u5eI"
      },
      "execution_count": null,
      "outputs": []
    },
    {
      "cell_type": "code",
      "source": [
        "# Define a schema\n",
        "schema = StructType([\n",
        "                     StructField('LCLid', StringType()),\n",
        "                     StructField('ds', TimestampType()),\n",
        "                     StructField('y', DoubleType()),\n",
        "                     StructField('yhat', DoubleType()),\n",
        "                     StructField('yhat_upper', DoubleType()),\n",
        "                     StructField('yhat_lower', DoubleType()),\n",
        "                     ])"
      ],
      "metadata": {
        "papermill": {
          "duration": 0.131947,
          "end_time": "2022-08-14T13:03:47.112806",
          "exception": false,
          "start_time": "2022-08-14T13:03:46.980859",
          "status": "completed"
        },
        "tags": [],
        "execution": {
          "iopub.status.busy": "2022-09-02T01:39:01.549993Z",
          "iopub.execute_input": "2022-09-02T01:39:01.550437Z",
          "iopub.status.idle": "2022-09-02T01:39:01.558976Z",
          "shell.execute_reply.started": "2022-09-02T01:39:01.550391Z",
          "shell.execute_reply": "2022-09-02T01:39:01.557699Z"
        },
        "trusted": true,
        "id": "Feo0isjEu5eJ"
      },
      "execution_count": null,
      "outputs": []
    },
    {
      "cell_type": "code",
      "source": [
        "# define the Pandas UDF\n",
        "@pandas_udf(schema, PandasUDFType.GROUPED_MAP)\n",
        "def apply_model(home_pd):\n",
        "    # instantiate the model and set parameters\n",
        "    model = Prophet(\n",
        "      interval_width=0.95,\n",
        "      growth='linear',\n",
        "      daily_seasonality=False,\n",
        "      weekly_seasonality=True,\n",
        "      yearly_seasonality=True,\n",
        "      seasonality_mode='multiplicative'\n",
        "    )\n",
        "\n",
        "    # fit the model to historical data\n",
        "    model.fit(home_pd)\n",
        "\n",
        "    # Create a data frame that lists 90 dates starting from Jan 1 2012\n",
        "    future = model.make_future_dataframe(\n",
        "      periods=90,\n",
        "      freq='d',\n",
        "      include_history=True)\n",
        "\n",
        "    # Out of sample prediction\n",
        "    future = model.predict(future)\n",
        "\n",
        "    # Create a data frame that contains store, home address, y, and yhat\n",
        "    f_pd = future[['ds', 'yhat', 'yhat_upper', 'yhat_lower']]\n",
        "    hm_pd = home_pd[['ds', 'LCLid','y']]\n",
        "    result_pd = f_pd.join(hm_pd.set_index('ds'), on='ds', how='left')\n",
        "\n",
        "    # fill home address\n",
        "    result_pd['LCLid'] = home_pd['LCLid'].iloc[0]\n",
        "\n",
        "    return result_pd[['LCLid','ds', 'y', 'yhat',\n",
        "                    'yhat_upper', 'yhat_lower']]\n",
        "\n",
        "\n"
      ],
      "metadata": {
        "papermill": {
          "duration": 0.136262,
          "end_time": "2022-08-14T13:03:47.3659",
          "exception": false,
          "start_time": "2022-08-14T13:03:47.229638",
          "status": "completed"
        },
        "tags": [],
        "execution": {
          "iopub.status.busy": "2022-09-02T01:39:01.561532Z",
          "iopub.execute_input": "2022-09-02T01:39:01.562575Z",
          "iopub.status.idle": "2022-09-02T01:39:01.576103Z",
          "shell.execute_reply.started": "2022-09-02T01:39:01.562526Z",
          "shell.execute_reply": "2022-09-02T01:39:01.574636Z"
        },
        "trusted": true,
        "id": "Od7kX8Ofu5eJ"
      },
      "execution_count": null,
      "outputs": []
    },
    {
      "cell_type": "code",
      "source": [
        "# Apply the function to all home addresses\n",
        "results = df_part.groupby(['LCLid']).apply(apply_model)\n",
        "\n",
        "# Print the results - calculate the time to run\n",
        "import timeit\n",
        "start = timeit.default_timer()\n",
        "results.show()\n",
        "stop = timeit.default_timer()"
      ],
      "metadata": {
        "papermill": {
          "duration": 20.111766,
          "end_time": "2022-08-14T13:04:07.56166",
          "exception": false,
          "start_time": "2022-08-14T13:03:47.449894",
          "status": "completed"
        },
        "tags": [],
        "execution": {
          "iopub.status.busy": "2022-09-02T01:39:01.578334Z",
          "iopub.execute_input": "2022-09-02T01:39:01.579172Z",
          "iopub.status.idle": "2022-09-02T01:39:21.762466Z",
          "shell.execute_reply.started": "2022-09-02T01:39:01.579127Z",
          "shell.execute_reply": "2022-09-02T01:39:21.761177Z"
        },
        "trusted": true,
        "id": "kDDgYAjLu5eJ"
      },
      "execution_count": null,
      "outputs": []
    },
    {
      "cell_type": "code",
      "source": [
        "df.select('LCLid').distinct().show()"
      ],
      "metadata": {
        "papermill": {
          "duration": 2.757336,
          "end_time": "2022-08-14T13:04:10.398497",
          "exception": false,
          "start_time": "2022-08-14T13:04:07.641161",
          "status": "completed"
        },
        "tags": [],
        "execution": {
          "iopub.status.busy": "2022-09-02T01:39:21.76377Z",
          "iopub.execute_input": "2022-09-02T01:39:21.764238Z",
          "iopub.status.idle": "2022-09-02T01:39:24.474105Z",
          "shell.execute_reply.started": "2022-09-02T01:39:21.764183Z",
          "shell.execute_reply": "2022-09-02T01:39:24.472828Z"
        },
        "trusted": true,
        "id": "bBYTmp4Nu5eJ"
      },
      "execution_count": null,
      "outputs": []
    },
    {
      "cell_type": "code",
      "source": [
        "results.coalesce(1)\n",
        "results.createOrReplaceTempView('forecasted')\n",
        "spark.sql(\"SELECT * FROM forecasted WHERE LCLid LIKE '%MAC00001%'\").show()"
      ],
      "metadata": {
        "papermill": {
          "duration": 2.857307,
          "end_time": "2022-08-14T13:04:13.365867",
          "exception": false,
          "start_time": "2022-08-14T13:04:10.50856",
          "status": "completed"
        },
        "tags": [],
        "execution": {
          "iopub.status.busy": "2022-09-02T01:39:24.475401Z",
          "iopub.execute_input": "2022-09-02T01:39:24.475836Z",
          "iopub.status.idle": "2022-09-02T01:39:53.909284Z",
          "shell.execute_reply.started": "2022-09-02T01:39:24.475793Z",
          "shell.execute_reply": "2022-09-02T01:39:53.907981Z"
        },
        "trusted": true,
        "id": "IhGLWEKDu5eJ"
      },
      "execution_count": null,
      "outputs": []
    }
  ]
}